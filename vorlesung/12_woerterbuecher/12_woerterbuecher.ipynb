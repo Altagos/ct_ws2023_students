{
 "cells": [
  {
   "cell_type": "code",
   "execution_count": 1,
   "metadata": {
    "deletable": false,
    "editable": false
   },
   "outputs": [],
   "source": [
    "# Initialize Otter\n",
    "import otter\n",
    "grader = otter.Notebook(\"12_woerterbuecher.ipynb\")"
   ]
  },
  {
   "cell_type": "markdown",
   "metadata": {},
   "source": [
    "# Computational Thinking WS2022/23\n",
    "\n",
    "**Autoren:**\n",
    "\n",
    "- Prof. Dr. Benedikt Dietrich\n"
   ]
  },
  {
   "cell_type": "markdown",
   "metadata": {},
   "source": [
    "## 1. Konfiguration eines Programms\n",
    "\n",
    "Gegeben ist ein einfaches Wörterbuch, welches die Konfiguration für ein Programm beinhaltet. Ändern Sie die Konfiguration wie beschrieben ab.\n"
   ]
  },
  {
   "cell_type": "code",
   "execution_count": 2,
   "metadata": {},
   "outputs": [],
   "source": [
    "configuration = {\n",
    "    \"language\": \"german\",\n",
    "    \"recently_opened_files\": [\"blablub.txt\", \"blubblub.txt\", \"data.csv\"],\n",
    "    \"mouse_speed\": 10\n",
    "}"
   ]
  },
  {
   "cell_type": "markdown",
   "metadata": {
    "deletable": false,
    "editable": false
   },
   "source": [
    "### 1.1 Elemente lesen\n",
    "\n",
    "Schreiben Sie zunächst eine Funktion, die die aktuelle Konfiguration wie folgt ausgibt:\n",
    "\n",
    "```text\n",
    "    Sprache: german\n",
    "    Zuletzt geöffnete Dateien:\n",
    "    * blablub.txt\n",
    "    * blubblub.txt\n",
    "    * data.csv\n",
    "    Mausgeschwindigkeit: 10\n",
    "```\n"
   ]
  },
  {
   "cell_type": "code",
   "execution_count": 6,
   "metadata": {
    "tags": []
   },
   "outputs": [
    {
     "name": "stdout",
     "output_type": "stream",
     "text": [
      "Sprache: german\n",
      "Zultzt geöffnete Dateien:\n",
      "* blablub.txt\n",
      "* blubblub.txt\n",
      "* data.csv\n",
      "Mausgeschwindigkeit: 10\n"
     ]
    }
   ],
   "source": [
    "def print_configuration(config):\n",
    "    print(f\"Sprache: {config['language']}\")\n",
    "\n",
    "    print(f\"Zultzt geöffnete Dateien:\")\n",
    "    for i in config[\"recently_opened_files\"]:\n",
    "        print(f\"* {i}\")\n",
    "\n",
    "    print(f\"Mausgeschwindigkeit: {config['mouse_speed']}\")\n",
    "\n",
    "print_configuration(configuration)"
   ]
  },
  {
   "cell_type": "markdown",
   "metadata": {
    "deletable": false,
    "editable": false
   },
   "source": [
    "### 1.2 Elemente verändern\n",
    "\n",
    "Verändern Sie nun die Konfiguration wie gefordert:\n"
   ]
  },
  {
   "cell_type": "code",
   "execution_count": null,
   "metadata": {
    "tags": []
   },
   "outputs": [],
   "source": [
    "# Setzen Sie die Geschwindigkeit der Maus auf 6\n",
    "\n",
    "..."
   ]
  },
  {
   "cell_type": "code",
   "execution_count": null,
   "metadata": {
    "tags": []
   },
   "outputs": [],
   "source": [
    "# Fügen Sie zu den zuletzt geöffneten Dateien die Datei wowow.txt hinzu\n",
    "\n",
    "..."
   ]
  },
  {
   "cell_type": "code",
   "execution_count": null,
   "metadata": {
    "tags": []
   },
   "outputs": [],
   "source": [
    "# Verändern Sie die Sprache in english\n",
    "\n",
    "..."
   ]
  },
  {
   "cell_type": "code",
   "execution_count": null,
   "metadata": {
    "tags": []
   },
   "outputs": [],
   "source": [
    "# Fügen Sie die Konfiguration \"keyboard_layout\" mit dem Wert \"de\" hinzu.\n",
    "\n",
    "..."
   ]
  },
  {
   "cell_type": "markdown",
   "metadata": {},
   "source": [
    "## 2. Verschlüsselung von Text\n",
    "\n",
    "Ein einfaches Codierverfahren ist es, bei einem Text Buchstaben durch andere Buchstaben zu ersetzen. Ein Beispiel eines Verschlüsselungsschemas ist gegeben durch:\n",
    "\n",
    "```text\n",
    "    a -> d\n",
    "    b -> f\n",
    "    c -> k\n",
    "    d -> a\n",
    "    e -> n\n",
    "    f -> o\n",
    "    g -> q\n",
    "    h -> j\n",
    "    i -> h\n",
    "    j -> l\n",
    "    k -> m\n",
    "    l -> s\n",
    "    m -> y\n",
    "    n -> x\n",
    "    o -> u\n",
    "    p -> t\n",
    "    q -> w\n",
    "    r -> b\n",
    "    s -> g\n",
    "    t -> i\n",
    "    u -> e\n",
    "    v -> c\n",
    "    w -> p\n",
    "    x -> r\n",
    "    y -> v\n",
    "    z -> z\n",
    "```\n",
    "\n",
    "Der Text\n",
    "\n",
    "```text\n",
    "    dies ist der zu verschluesselnde text\n",
    "```\n",
    "\n",
    "wird Buchstabe für Buchstabe mit diesem Schema verschlüsselt und ergibt dann:\n",
    "\n",
    "```text\n",
    "    ahng hgi anb ze cnbgkjsenggnsxan inri\n",
    "```\n"
   ]
  },
  {
   "cell_type": "markdown",
   "metadata": {
    "deletable": false,
    "editable": false
   },
   "source": [
    "### 2.1 Wörterbuch erstellen\n",
    "\n",
    "Erstellen Sie ein Wörterbuch `encoding_scheme`, welches zur Verschlüsselung verwendet werden kann.\n"
   ]
  },
  {
   "cell_type": "code",
   "execution_count": null,
   "metadata": {
    "tags": []
   },
   "outputs": [],
   "source": [
    "..."
   ]
  },
  {
   "cell_type": "markdown",
   "metadata": {
    "deletable": false,
    "editable": false
   },
   "source": [
    "### 2.2 Verschlüsseln\n",
    "\n",
    "Schreiben Sie eine Funktion `encode(scheme, text)`, welcher ein Schlüssel und ein zu codierender Text übergeben wird. Die Funktion soll den Text wie beschrieben verschlüsseln und das Ergebnis als String zurückliefern.\n"
   ]
  },
  {
   "cell_type": "code",
   "execution_count": null,
   "metadata": {
    "tags": []
   },
   "outputs": [],
   "source": [
    "..."
   ]
  },
  {
   "cell_type": "code",
   "execution_count": null,
   "metadata": {
    "tags": []
   },
   "outputs": [],
   "source": [
    "# Soll den Text verschlüsselt ausgeben\n",
    "print(encode(encoding_scheme, \"dies ist der zu verschluesselnde text\"))"
   ]
  },
  {
   "cell_type": "markdown",
   "metadata": {
    "deletable": false,
    "editable": false
   },
   "source": [
    "### 2.3 Entschlüsseln\n",
    "\n",
    "Entwickeln Sie nun die Funktion `decode(scheme, text)`, welche den Text wieder entschlüsselt. Erzeugen Sie hierfür in der Funktion aus `scheme` ein Wörterbuch zum entschlüsseln und rufen Sie damit die Funktion `encode()` auf.\n"
   ]
  },
  {
   "cell_type": "code",
   "execution_count": null,
   "metadata": {
    "tags": []
   },
   "outputs": [],
   "source": [
    "def decode(scheme, text):\n",
    "    inv_scheme = dict((v, k) for k, v in scheme.items())\n",
    "    return encode(inv_scheme, text)\n"
   ]
  },
  {
   "cell_type": "code",
   "execution_count": null,
   "metadata": {
    "tags": []
   },
   "outputs": [],
   "source": [
    "encoded_text = encode(encoding_scheme, \"dies ist der zu verschluesselnde text\")\n",
    "decoded_text = decode(encoding_scheme, encoded_text)\n",
    "print(decoded_text)"
   ]
  }
 ],
 "metadata": {
  "kernelspec": {
   "display_name": "Python 3",
   "language": "python",
   "name": "python3"
  },
  "language_info": {
   "codemirror_mode": {
    "name": "ipython",
    "version": 3
   },
   "file_extension": ".py",
   "mimetype": "text/x-python",
   "name": "python",
   "nbconvert_exporter": "python",
   "pygments_lexer": "ipython3",
   "version": "3.11.6"
  },
  "otter": {
   "OK_FORMAT": false,
   "assignment_name": "11_dateioperationen",
   "tests": {}
  }
 },
 "nbformat": 4,
 "nbformat_minor": 2
}
