{
 "cells": [
  {
   "cell_type": "code",
   "execution_count": 20,
   "metadata": {
    "deletable": false,
    "editable": false
   },
   "outputs": [],
   "source": [
    "# Initialize Otter\n",
    "import otter\n",
    "grader = otter.Notebook(\"08_2_Binaere_Bilder.ipynb\")"
   ]
  },
  {
   "cell_type": "markdown",
   "metadata": {},
   "source": [
    "# Computational Thinking WS2023/24\n",
    "\n",
    "**Autoren:**\n",
    "\n",
    "- Dr. Benedikt Zönnchen\n",
    "- Prof. Martin Hobelsberger\n",
    "- Prof. Benedikt Dietrich\n"
   ]
  },
  {
   "attachments": {},
   "cell_type": "markdown",
   "metadata": {},
   "source": [
    "## Repräsentation von Bild und Text\n",
    "\n",
    "In diesem Notebook üben wir den Umgang mit Listen in Kombination mit den boolschen Operationen **NOT**, **AND**, **OR** und **XOR**.\n",
    "Dabei nutzen wir Listen als eine Repräsentation von Schwarz-Weiß-Bildern und erstellen dadruch zweidimensionale Codes als Bilder, welche wir zur Übertragung von Informationen verwenden können.\n",
    "\n",
    "Die letzte Aufgabe soll Ihnen ein konkretes Anwendungsbeispiel vermitteln.\n",
    "\n",
    "Für dieses Notebook benötigen Sie folgende Pakete:\n",
    "\n",
    "- `otter-grader`\n",
    "- `numpy`\n",
    "- `pillow`\n",
    "- `matplotlib`\n",
    "\n",
    "Wenn dies notwendig ist, installieren Sie diese mit:\n",
    "\n",
    "```\n",
    "conda install [paketname]\n",
    "```\n",
    "\n",
    "oder\n",
    "\n",
    "```\n",
    "pip install [paketname]\n",
    "```\n"
   ]
  },
  {
   "attachments": {},
   "cell_type": "markdown",
   "metadata": {},
   "source": [
    "## 1. Schwarz-Weiß-Bilder als Listen\n",
    "\n",
    "Pixelbilder (auch genannt Rasterbilder) sind nichts weiter als eine geordnete Ansammlung von Zahlen.\n",
    "Im Fall von Farbbildern besteht jeder Pixel aus drei Farbwerten, je einen für rot, grün und blau.\n",
    "Graustufenbilder haben hingegen nur einen sog. Farbkanal, d.h. einen Wert je Pixel.\n",
    "Wir wollen heute den Code dafür entwickeln um Schwarz-Weißbilder zu zeichnen.\n",
    "\n",
    "Ein Pixel eines Schwarz-Weiß-Bildes besteht (wie beim Graustufenbild) nur aus einem Wert.\n",
    "Dieser kann aber lediglich zwei konkrete Werte `0` (schwarz) oder `1` (weiß) annehmen.\n"
   ]
  },
  {
   "cell_type": "markdown",
   "metadata": {
    "deletable": false,
    "editable": false
   },
   "source": [
    "---\n",
    "\n",
    "**_Aufgabe 1 (Repräsentation)._**\n",
    "\n",
    "Überlegen Sie sich eine (`Python`)-_Repräsentation_ eines Schwarz-Weiß-Bildes. Mit welcher Datenstruktur können wir ein solches Bild repräsentieren?\n"
   ]
  },
  {
   "cell_type": "markdown",
   "metadata": {},
   "source": [
    "Wir wählen als Repräsentation eine 2-dimensionale Liste aus Nullen und Einsen.\n",
    "Zum Beispiel:\n"
   ]
  },
  {
   "cell_type": "code",
   "execution_count": 4,
   "metadata": {},
   "outputs": [],
   "source": [
    "picture = [[1, 1, 1, 1, 1, 1, 1, 1], # 1. Zeile\n",
    "           [1, 1, 0, 1, 1, 0, 1, 1], # 2. Zeile\n",
    "           [1, 1, 1, 1, 1, 1, 1, 1], # 3. Zeile\n",
    "           [1, 0, 1, 1, 1, 1, 0, 1], # 4. Zeile\n",
    "           [1, 1, 0, 0, 0, 0, 1, 1], # 5. Zeile\n",
    "           [1, 1, 1, 1, 1, 1, 1, 1]] # 6. Zeile"
   ]
  },
  {
   "cell_type": "markdown",
   "metadata": {},
   "source": [
    "Die folgende Funktion `plot_picture(picture, scale)` erwartet eine 2-dimensionale Liste aus Zahlen und zeichnet diese als Schwarz-Weiß-Bild.\n",
    "Sie können die größe der Pixel mit dem Parameter `scale` steuern.\n"
   ]
  },
  {
   "cell_type": "code",
   "execution_count": 7,
   "metadata": {},
   "outputs": [
    {
     "data": {
      "image/png": "[encoded data removed]",
      "text/plain": [
       "<Figure size 300x400 with 1 Axes>"
      ]
     },
     "metadata": {},
     "output_type": "display_data"
    }
   ],
   "source": [
    "import matplotlib.pyplot as plt\n",
    "\n",
    "def plot_picture(picture, scale=1.0):\n",
    "    h = len(picture)\n",
    "    w = len(picture[0])\n",
    "    fig, ax = plt.subplots(figsize=(h*scale, w*scale))\n",
    "    ax.get_xaxis().set_ticks([])\n",
    "    ax.get_yaxis().set_ticks([])\n",
    "    ax.imshow(picture, cmap='gray', vmin=0, vmax=1)\n",
    "    ax.set_aspect(1.0)\n",
    "\n",
    "plot_picture(picture, scale=0.5)"
   ]
  },
  {
   "cell_type": "markdown",
   "metadata": {
    "deletable": false,
    "editable": false
   },
   "source": [
    "**_Aufgabe 2 (Erzeugung einer Zeichenfläche)._**\n",
    "\n",
    "Schreiben Sie eine Funktion `create_canvas(width, height, border_width)` welche ein $\\text{width} \\times \\text{height}$ Rasterbild zurückliefert. Dieses Bild soll einen schwarzen Rand besitzen, welches `border_width` Pixel breit ist.\n",
    "\n",
    "```\n",
    "\n",
    "```\n"
   ]
  },
  {
   "cell_type": "code",
   "execution_count": 18,
   "metadata": {
    "tags": []
   },
   "outputs": [
    {
     "data": {
      "image/png": "[encoded data removed]",
      "text/plain": [
       "<Figure size 300x900 with 1 Axes>"
      ]
     },
     "metadata": {},
     "output_type": "display_data"
    }
   ],
   "source": [
    "def create_canvas(width=10, height=10, border_width=1):\n",
    "    picture = [[1] * width for _ in range(height)]\n",
    "\n",
    "    for row in range(height):\n",
    "        if (row <= border_width - 1) or row >= height - border_width:\n",
    "            picture[row] = [0] * width\n",
    "        else:\n",
    "            for i in range(border_width):\n",
    "                picture[row][i] = 0\n",
    "                picture[row][width - i - 1] = 0\n",
    "    \n",
    "    return picture\n",
    "\n",
    "plot_picture(create_canvas(30, 10, 2), scale=0.3)\n",
    "# print(create_canvas(30, 10, 2))"
   ]
  },
  {
   "cell_type": "code",
   "execution_count": 21,
   "metadata": {
    "deletable": false,
    "editable": false
   },
   "outputs": [
    {
     "data": {
      "text/html": [
       "<p><strong><pre style='display: inline;'>q2</pre></strong> passed! 🌈</p><p><strong><pre style='display: inline;'>q2 - 1</pre> message:</strong> Sieht richtig aus!</p>"
      ],
      "text/plain": [
       "q2 results: All test cases passed!\n",
       "q2 - 1 message: Sieht richtig aus!"
      ]
     },
     "execution_count": 21,
     "metadata": {},
     "output_type": "execute_result"
    }
   ],
   "source": [
    "grader.check(\"q2\")"
   ]
  },
  {
   "cell_type": "markdown",
   "metadata": {
    "deletable": false,
    "editable": false
   },
   "source": [
    "**_Aufgabe 3 (Logisches Not)._**\n",
    "\n",
    "Schreiben Sie eine Funktion `invert(picture)` welche Ihr Bild invertiert, d.h. aus jeder Null eine Eins und aus jeder Eins eine Null macht. Die Funktion soll dabei eine neue Liste zürckliefern, sodass das `picture` unverändert bleibt.\n"
   ]
  },
  {
   "cell_type": "code",
   "execution_count": 29,
   "metadata": {
    "tags": []
   },
   "outputs": [],
   "source": [
    "def invert(picture):\n",
    "    def inv(p):\n",
    "        return 1 if p == 0 else 0\n",
    "\n",
    "    return [list(map(inv, x)) for x in picture]"
   ]
  },
  {
   "cell_type": "code",
   "execution_count": 30,
   "metadata": {
    "tags": []
   },
   "outputs": [
    {
     "data": {
      "image/png": "[encoded data removed]",
      "text/plain": [
       "<Figure size 300x500 with 1 Axes>"
      ]
     },
     "metadata": {},
     "output_type": "display_data"
    },
    {
     "data": {
      "image/png": "[encoded data removed]",
      "text/plain": [
       "<Figure size 300x500 with 1 Axes>"
      ]
     },
     "metadata": {},
     "output_type": "display_data"
    }
   ],
   "source": [
    "original = create_canvas(5, 3, 1)\n",
    "plot_picture(original)\n",
    "plot_picture(invert(original), scale=1)"
   ]
  },
  {
   "cell_type": "code",
   "execution_count": 31,
   "metadata": {
    "deletable": false,
    "editable": false
   },
   "outputs": [
    {
     "data": {
      "text/html": [
       "<p><strong><pre style='display: inline;'>q3</pre></strong> passed! 🌈</p><p><strong><pre style='display: inline;'>q3 - 1</pre> message:</strong> Sieht richtig aus!</p>"
      ],
      "text/plain": [
       "q3 results: All test cases passed!\n",
       "q3 - 1 message: Sieht richtig aus!"
      ]
     },
     "execution_count": 31,
     "metadata": {},
     "output_type": "execute_result"
    }
   ],
   "source": [
    "grader.check(\"q3\")"
   ]
  },
  {
   "cell_type": "markdown",
   "metadata": {
    "deletable": false,
    "editable": false
   },
   "source": [
    "**_Aufgabe 4 (Logisches AND)._**\n",
    "\n",
    "Schreiben Sie nun eine Funktion `intersect(picture1, picture2)` welche zwei Bilder der gleichen Größe erwartet und eine neuens Bild `intersection` erzeugt wobei der Pixel an Zeile `row` und Spalte `col` genau dann `1` ist wenn `picture1[row][col]` gleich `1` und `picture2[row][col]` gleich `1`\n"
   ]
  },
  {
   "cell_type": "code",
   "execution_count": 45,
   "metadata": {
    "tags": []
   },
   "outputs": [],
   "source": [
    "def intersect(picture1, picture2):\n",
    "    new_picture = picture1\n",
    "\n",
    "    for row_idx, row in enumerate(picture1):\n",
    "        for col_idx, col in enumerate(row):\n",
    "            if col == 1 and picture2[row_idx][col_idx] == 1:\n",
    "                new_picture[row_idx][col_idx] = 1\n",
    "            else:\n",
    "                new_picture[row_idx][col_idx] = 0\n",
    "\n",
    "    return new_picture"
   ]
  },
  {
   "cell_type": "code",
   "execution_count": 46,
   "metadata": {
    "deletable": false,
    "editable": false
   },
   "outputs": [
    {
     "data": {
      "text/html": [
       "<p><strong><pre style='display: inline;'>q4</pre></strong> passed! 🍀</p><p><strong><pre style='display: inline;'>q4 - 1</pre> message:</strong> Sieht richtig aus!</p>"
      ],
      "text/plain": [
       "q4 results: All test cases passed!\n",
       "q4 - 1 message: Sieht richtig aus!"
      ]
     },
     "execution_count": 46,
     "metadata": {},
     "output_type": "execute_result"
    }
   ],
   "source": [
    "grader.check(\"q4\")"
   ]
  },
  {
   "cell_type": "markdown",
   "metadata": {
    "deletable": false,
    "editable": false
   },
   "source": [
    "**_Aufgabe 5 (Logisches OR)._**\n",
    "\n",
    "Schreiben Sie nun eine Funktion `union(picture1, picture2)` welche zwei Bilder der gleichen Größe erwartet und eine neuens Bild erzeugt wobei der Pixel an Zeile `row` und Spalte `col` genau dann `1` ist wenn `picture1[row][col]` gleich `1` oder `picture2[row][col]` gleich `1` oder beide.\n"
   ]
  },
  {
   "cell_type": "code",
   "execution_count": 47,
   "metadata": {
    "tags": []
   },
   "outputs": [],
   "source": [
    "def union(picture1, picture2):\n",
    "    new_picture = picture1\n",
    "\n",
    "    for row_idx, row in enumerate(picture1):\n",
    "        for col_idx, col in enumerate(row):\n",
    "            if col == 1 or picture2[row_idx][col_idx] == 1:\n",
    "                new_picture[row_idx][col_idx] = 1\n",
    "            else:\n",
    "                new_picture[row_idx][col_idx] = 0\n",
    "\n",
    "    return new_picture"
   ]
  },
  {
   "cell_type": "code",
   "execution_count": 48,
   "metadata": {
    "deletable": false,
    "editable": false
   },
   "outputs": [
    {
     "data": {
      "text/html": [
       "<p><strong><pre style='display: inline;'>q5</pre></strong> passed! 🌈</p><p><strong><pre style='display: inline;'>q5 - 1</pre> message:</strong> Sieht richtig aus!</p>"
      ],
      "text/plain": [
       "q5 results: All test cases passed!\n",
       "q5 - 1 message: Sieht richtig aus!"
      ]
     },
     "execution_count": 48,
     "metadata": {},
     "output_type": "execute_result"
    }
   ],
   "source": [
    "grader.check(\"q5\")"
   ]
  },
  {
   "cell_type": "markdown",
   "metadata": {
    "deletable": false,
    "editable": false
   },
   "source": [
    "**_Aufgabe 6 (Logisches XOR)._**\n",
    "\n",
    "Schreiben Sie nun eine Funktion `symmetric_diff(picture1, picture2)` welche zwei Bilder der gleichen Größe erwartet und eine neuens Bild erzeugt wobei der Pixel an Zeile `row` und Spalte `col` genau dann `1` ist wenn **entweder** `picture1[row][col]` gleich `1` **oder** `picture2[row][col]` gleich `1` jedoch **nicht** beide.\n"
   ]
  },
  {
   "cell_type": "code",
   "execution_count": 49,
   "metadata": {
    "tags": []
   },
   "outputs": [],
   "source": [
    "def sdiff(picture1, picture2):\n",
    "    new_picture = picture1\n",
    "\n",
    "    for row_idx, row in enumerate(picture1):\n",
    "        for col_idx, col in enumerate(row):\n",
    "            if (col == 1 and picture2[row_idx][col_idx] == 0) or (col == 0 and picture2[row_idx][col_idx] == 1):\n",
    "                new_picture[row_idx][col_idx] = 1\n",
    "            else:\n",
    "                new_picture[row_idx][col_idx] = 0\n",
    "\n",
    "    return new_picture"
   ]
  },
  {
   "cell_type": "code",
   "execution_count": 50,
   "metadata": {
    "deletable": false,
    "editable": false
   },
   "outputs": [
    {
     "data": {
      "text/html": [
       "<p><strong><pre style='display: inline;'>q6</pre></strong> passed! 💯</p><p><strong><pre style='display: inline;'>q6 - 1</pre> message:</strong> Sieht richtig aus!</p>"
      ],
      "text/plain": [
       "q6 results: All test cases passed!\n",
       "q6 - 1 message: Sieht richtig aus!"
      ]
     },
     "execution_count": 50,
     "metadata": {},
     "output_type": "execute_result"
    }
   ],
   "source": [
    "grader.check(\"q6\")"
   ]
  },
  {
   "cell_type": "markdown",
   "metadata": {
    "deletable": false,
    "editable": false
   },
   "source": [
    "**_Aufgabe 7 (Logisches Zeichnen)._**\n",
    "\n",
    "Schreiben Sie eine Funktion `create_alternating_canvas(h, w)`, die Bild erzeugt, welches einen schwarzen Rand der Pixelbreite 1 hat gefolgt von einem weißen inneren Rand gefolgt von einem schwarzen Rand usw.\n",
    "Verwenden Sie ausschließlich die Funktionen `create_canvas` und `symmetric_diff`.\n",
    "\n",
    "Hier ein Beispiel:\n"
   ]
  },
  {
   "cell_type": "code",
   "execution_count": 187,
   "metadata": {
    "deletable": false,
    "editable": false
   },
   "outputs": [
    {
     "data": {
      "text/plain": [
       "5"
      ]
     },
     "execution_count": 187,
     "metadata": {},
     "output_type": "execute_result"
    },
    {
     "data": {
      "image/png": "[encoded data removed]",
      "text/plain": [
       "<Figure size 450x500 with 1 Axes>"
      ]
     },
     "metadata": {},
     "output_type": "display_data"
    }
   ],
   "source": [
    "picture = [[0, 0, 0, 0, 0, 0, 0, 0, 0, 0],\n",
    "           [0, 1, 1, 1, 1, 1, 1, 1, 1, 0],\n",
    "           [0, 1, 0, 0, 0, 0, 0, 0, 1, 0],\n",
    "           [0, 1, 0, 1, 1, 1, 1, 0, 1, 0],\n",
    "           [0, 1, 0, 1, 0, 0, 1, 0, 1, 0],\n",
    "           [0, 1, 0, 1, 1, 1, 1, 0, 1, 0],\n",
    "           [0, 1, 0, 0, 0, 0, 0, 0, 1, 0],\n",
    "           [0, 1, 1, 1, 1, 1, 1, 1, 1, 0],\n",
    "           [0, 0, 0, 0, 0, 0, 0, 0, 0, 0]]\n",
    "\n",
    "plot_picture(picture, scale = 0.5)\n",
    "\n",
    "len(picture[1]) // 2"
   ]
  },
  {
   "cell_type": "code",
   "execution_count": 251,
   "metadata": {
    "tags": []
   },
   "outputs": [
    {
     "name": "stdout",
     "output_type": "stream",
     "text": [
      "30\n"
     ]
    },
    {
     "data": {
      "image/png": "[encoded data removed]",
      "text/plain": [
       "<Figure size 600x400 with 1 Axes>"
      ]
     },
     "metadata": {},
     "output_type": "display_data"
    }
   ],
   "source": [
    "from math import floor\n",
    "\n",
    "\n",
    "def create_alternating_canvas(h, w):\n",
    "    return_picture = [[1] * w for _ in range(h)]\n",
    "\n",
    "    for row in range(h):\n",
    "        for col in range(w):\n",
    "            if row % 2 == 0:\n",
    "                return_picture[row][col] = 0\n",
    "\n",
    "    # return picture\n",
    "\n",
    "    # oh = h\n",
    "    # ow = w\n",
    "\n",
    "    # num_rectangles = w // 2\n",
    "    # smallest_h = h // num_rectangles\n",
    "    # smallest_w = w // num_rectangles\n",
    "\n",
    "    # print(num_rectangles, smallest_h, smallest_w)\n",
    "\n",
    "    # return_picture = create_canvas(smallest_w, smallest_h)\n",
    "\n",
    "    # while smallest_h < oh + 1 and smallest_w < ow:\n",
    "    #     smallest_h += floor(oh / num_rectangles)\n",
    "    #     smallest_w += floor(ow / num_rectangles)\n",
    "    #     next_bigger_picture = create_canvas(smallest_w, smallest_h)\n",
    "\n",
    "    #     for row in range(len(return_picture)):\n",
    "    #         # if row <= 2 or row >= len(return_picture) - 2:                \n",
    "                \n",
    "    #         # else:\n",
    "    #             for col in range(len(return_picture[row])):\n",
    "    #                 if col <= 1 or col == len(return_picture[row]) - 1 and row <= 1 or row >= len(return_picture) - 1:\n",
    "    #                     next_bigger_picture[row] = next_bigger_picture[row - 1]\n",
    "    #                 else:\n",
    "    #                     next_bigger_picture[row][col] = return_picture[row - 1][col - 1]\n",
    "        \n",
    "    #     return_picture = next_bigger_picture\n",
    "\n",
    "    # return_picture = create_canvas(h, w)\n",
    "    # depth = 2\n",
    "\n",
    "    # while h - depth > 0 and w - depth > 0:\n",
    "    #     picture = create_canvas(h, w)\n",
    "\n",
    "    #     h -= 2\n",
    "    #     w -= 2\n",
    "\n",
    "    #     one_smaller_picture = create_canvas(h, w)\n",
    "\n",
    "    #     inner_picture = picture[1:]\n",
    "    #     inner_picture = inner_picture[:-1]\n",
    "        \n",
    "    #     for row in range(len(inner_picture)):\n",
    "    #         inner_picture[row] = inner_picture[row][1:]\n",
    "    #         inner_picture[row] = inner_picture[row][:-1]\n",
    "\n",
    "    #     sdiff_inner = sdiff(inner_picture, one_smaller_picture)\n",
    "        \n",
    "    #     combined_picture_and_inner = picture\n",
    "    #     for row in range(len(picture)):\n",
    "    #         for col in range(len(picture[0])):\n",
    "    #             if (row <= 1 or row >= len(picture) - 3) or (col <= 1 or col >= len(picture[0]) - 3):\n",
    "    #                 continue\n",
    "    #             else:\n",
    "    #                 if row - 1 >= 0 and col - 1 >= 0:\n",
    "    #                     try:\n",
    "    #                         combined_picture_and_inner[row][col] = sdiff_inner[row-1][col-1]\n",
    "    #                     except:\n",
    "    #                         continue\n",
    "        \n",
    "        # new_return = return_picture\n",
    "        # for row in range(len(return_picture)):\n",
    "        #     for col in range(len(return_picture[0])):\n",
    "        #         if row < depth or col < depth:\n",
    "        #             continue\n",
    "        #         elif (row >= len(return_picture) - depth) and col >= len(new_return[row]) - depth:\n",
    "        #             new_return[row][col] = 0\n",
    "        #         else:\n",
    "        #             if row - depth >= 0 and col - depth >= 0:\n",
    "        #                 try:\n",
    "        #                     new_return[row][col] = combined_picture_and_inner[row-depth][col-depth]\n",
    "        #                 except:\n",
    "        #                     continue\n",
    "        \n",
    "        # return_picture = new_return\n",
    "\n",
    "        # h -= 1\n",
    "        # w -= 1\n",
    "        # depth += 2\n",
    "\n",
    "    return return_picture\n",
    "\n",
    "pic = create_alternating_canvas(30, 20)\n",
    "print(len(pic))\n",
    "plot_picture(pic, scale = 0.2)"
   ]
  },
  {
   "cell_type": "code",
   "execution_count": null,
   "metadata": {
    "deletable": false,
    "editable": false
   },
   "outputs": [],
   "source": [
    "grader.check(\"q7\")"
   ]
  },
  {
   "attachments": {},
   "cell_type": "markdown",
   "metadata": {},
   "source": [
    "### 2. Codierung von Text\n",
    "\n",
    "Durch die folgenden zwei Aufgaben bauen wir uns die Funktionalität um Text in Bilder zu codieren und diese Bilder wieder zu decodieren.\n",
    "Die sog. [QR-Codes](https://de.wikipedia.org/wiki/QR-Code), welche Sie wahrscheinlich schon einmal verwendet haben sind nichts anderes.\n",
    "Wir bauen uns also unseren eigenen kleinen [QR-Codes](https://de.wikipedia.org/wiki/QR-Code).\n"
   ]
  },
  {
   "cell_type": "markdown",
   "metadata": {
    "deletable": false,
    "editable": false
   },
   "source": [
    "**_Aufgabe 8 (Vereinfachter QR-Code - Codierung), schwere Aufgabe._**\n",
    "\n",
    "[QR-Codes](https://de.wikipedia.org/wiki/QR-Code) speichern kleine Informationsschnippsel z.B. einen Link auf eine Webseite. Diese Codes können dann mit der (Handy)-Kamera gelesen und auf einem mobielen Gerät decodiert werden.\n",
    "\n",
    "Schreiben Sie eine Funktion `encode(text, n)` welche die Zeichenkette `text` als Binärbild codiert / repräsentiert.\n",
    "`n` sei dabei die Breite und Höhe des Bildes.\n",
    "\n",
    "**Tipps:** Sie können die Funktion `ord(char)` und `bin(n)` verwenden, welche Ihnen in kombination z.B.\n"
   ]
  },
  {
   "cell_type": "code",
   "execution_count": null,
   "metadata": {
    "deletable": false,
    "editable": false
   },
   "outputs": [],
   "source": [
    "bin(ord('c')) # 7 Bit"
   ]
  },
  {
   "cell_type": "markdown",
   "metadata": {
    "deletable": false,
    "editable": false
   },
   "source": [
    "**Achtung:** Für bestimmte Zeichen liefert `bin(ord(char))` eine kürzere Bitfolge. Füllen Sie diese vorne mit Nullen auf, wenn dies notwendig ist.\n"
   ]
  },
  {
   "cell_type": "code",
   "execution_count": null,
   "metadata": {
    "deletable": false,
    "editable": false
   },
   "outputs": [],
   "source": [
    "bin(ord(' ')) # nur 6 Bit !"
   ]
  },
  {
   "cell_type": "markdown",
   "metadata": {
    "deletable": false,
    "editable": false
   },
   "source": [
    "ein Zeichen (hier `'a'`) in seine binäre _[ASCII-Codes](https://de.wikipedia.org/wiki/American_Standard_Code_for_Information_Interchange)_-Repräsentation umwandelt.\n",
    "\n",
    "- Wie der kleine QR-Code, soll ihr Bild genau $n \\times n$ Pixel besitzen\n",
    "- Jedes Zeichen muss mit **genau 8 Bit codiert** werden\n",
    "- Füllen Sie den möglichen rest mit Nullen auf.\n",
    "- Gehen Sie davon aus, dass der Text nur Zeichen des [ASCII-Codes](https://de.wikipedia.org/wiki/American_Standard_Code_for_Information_Interchange) enthält (z.B. keine Umlaute etc.), **sodass jedes Zeichen genau 8 Bit benötigt**!\n",
    "\n",
    "**Tipp:** Da Sie den eindimensionalen Text in ein zweidimensionales Bild schreiben, wäre eine kleine Hilfsfunktion nützlich, welche Ihnen für einen eindimensionalen Index, die korrekte Zeile und Spalte zurückliefert.\n"
   ]
  },
  {
   "cell_type": "code",
   "execution_count": null,
   "metadata": {
    "tags": []
   },
   "outputs": [],
   "source": [
    "def encode(text, n):\n",
    "    qrpicture = create_canvas(n, n, n//2+1)\n",
    "    limit = n * n\n",
    "    ...\n",
    "    return qrpicture   "
   ]
  },
  {
   "cell_type": "code",
   "execution_count": null,
   "metadata": {
    "deletable": false,
    "editable": false
   },
   "outputs": [],
   "source": [
    "grader.check(\"q8\")"
   ]
  },
  {
   "cell_type": "markdown",
   "metadata": {},
   "source": [
    "Lassen Sie uns mal ein paar Bilder aus Text generieren.\n",
    "Dazu haben wir Ihnen noch eine kleine Hilfsfunktion dazu gepackt, die Ihnen die kleinste mögliche Quadratzahl für den jeweiligen Text bestimmt.\n"
   ]
  },
  {
   "cell_type": "code",
   "execution_count": null,
   "metadata": {},
   "outputs": [],
   "source": [
    "def smallest_square(n):\n",
    "    for i in range(n):\n",
    "        if i * i >= n:\n",
    "            return i\n",
    "\n",
    "text = 'Hello World'\n",
    "n = smallest_square(len(text) * 8)\n",
    "plot_picture(encode(text, n), scale = 0.2)"
   ]
  },
  {
   "cell_type": "code",
   "execution_count": null,
   "metadata": {},
   "outputs": [],
   "source": [
    "text = 'https://www.hm.edu/'\n",
    "n = smallest_square(len(text) * 8)\n",
    "plot_picture(encode(text, n), scale = 0.2)"
   ]
  },
  {
   "cell_type": "markdown",
   "metadata": {
    "deletable": false,
    "editable": false
   },
   "source": [
    "**_Aufgabe 9 (Vereinfachter QR-Code - Decodierung), schwere Aufgabe._**\n",
    "\n",
    "Schreiben Sie eine Funktion `decode(qr_picture)`, die aus einem codierten Text (d.h. einem Bild `qr_picture` in unserem Format) den entsprechenden wieder herstellt.\n",
    "\n",
    "**Tipps:**\n",
    "\n",
    "- mit der Funktion `eval(binary)` können Sie eine Zahl in Binärdarstellung zu einer ganzen Zahl umwandeln\n",
    "- mit `chr(n)` können Sie eine ganze Zahl in das entsprechende Zeichen umwandeln\n",
    "- eventuell brauchen Sie eine ähnliche Hilfsfunktion wie beim Entwickeln Ihrer Funktion `encode`\n",
    "\n",
    "Beispiel:\n"
   ]
  },
  {
   "cell_type": "code",
   "execution_count": null,
   "metadata": {
    "deletable": false,
    "editable": false
   },
   "outputs": [],
   "source": [
    "binary = bin(ord('a'))\n",
    "print(binary)\n",
    "char = chr(eval(binary))\n",
    "print(char)"
   ]
  },
  {
   "cell_type": "code",
   "execution_count": null,
   "metadata": {
    "tags": []
   },
   "outputs": [],
   "source": [
    "def decode(qr_picture):\n",
    "    n = len(qr_picture)\n",
    "    limit = n * n\n",
    "    text = ''\n",
    "    ...\n",
    "    return text.replace('\\x00', '') # ersetzt den Null-charater der durch chr(eval('0b000000)) entsteht\n",
    "    "
   ]
  },
  {
   "cell_type": "code",
   "execution_count": null,
   "metadata": {
    "deletable": false,
    "editable": false
   },
   "outputs": [],
   "source": [
    "grader.check(\"q9\")"
   ]
  },
  {
   "cell_type": "markdown",
   "metadata": {},
   "source": [
    "Lassen Sie uns das testen:\n"
   ]
  },
  {
   "cell_type": "code",
   "execution_count": null,
   "metadata": {},
   "outputs": [],
   "source": [
    "text = 'Hello World'\n",
    "n = smallest_square(len(text) * 8)\n",
    "code_text = encode(text, n)\n",
    "plot_picture(code_text, scale = 0.2)\n",
    "print(decode(code_text))"
   ]
  },
  {
   "cell_type": "code",
   "execution_count": null,
   "metadata": {},
   "outputs": [],
   "source": [
    "text = 'https://www.hm.edu/'\n",
    "n = smallest_square(len(text) * 8)\n",
    "code_link = encode(text, n)\n",
    "plot_picture(code_link, scale = 0.2)\n",
    "plot_picture(invert(code_link), scale = 0.2)\n",
    "print(decode(code_link))"
   ]
  },
  {
   "cell_type": "code",
   "execution_count": null,
   "metadata": {},
   "outputs": [],
   "source": [
    "text = 'Dies ist ein langer Geheimtext, den ich fuer die Unwissenden durch ein Bild uebertragen will. Ob das wohl gut geht? Vielleicht sollte ich mir noch eine Verschluesselung ueberlegen.'\n",
    "n = smallest_square(len(text) * 8)\n",
    "code_long_text = encode(text, n)\n",
    "plot_picture(code_long_text, scale = 0.1)\n",
    "print(decode(code_long_text))"
   ]
  },
  {
   "cell_type": "markdown",
   "metadata": {
    "deletable": false,
    "editable": false
   },
   "source": [
    "**_Aufgabe 10 (Vereinfachter QR-Code - Verschlüsselung), Denkaufgabe._**\n",
    "\n",
    "Sie sind Besitzer\\*in mehrere Tanzclubs und möchten den Zugang über Ihren vereinfachten QR-Code regeln.\n",
    "Derzeit könnte man sich relativ einfach einen Zugang beschaffen, sobald man einen Ihrer QR-Codes photographiert hat.\n",
    "Dies wollen wir ändern. Wir möchten, dass der QR-Code als Zugangskarte dient.\n",
    "Dazu überlegen wir uns folgende Strategie:\n",
    "\n",
    "1. Wir denken uns ein Zugangspasswort `password` aus\n",
    "2. Wir erzeugen einen _User Code_ `user_code` der den Nachnamen `name` des Kunden und das Zugangspasswort enthält (dieser Code wird später wieder gelöscht)\n",
    "3. Wir erzeugen einen weiteren _Private Code_ `private_code`, den nur wir kennen sodass\n",
    "   `user_code = sdiff(private_code, public_code)` gilt, d.h., durch die exklusive Veroderung **XOR**\n",
    "   der beiden Codes entsteht der _User Code_, welcher alle nötigen Informationen enthält!\n",
    "4. Wir erzeugen den entsprechenden _Public Code_ `public_code` und versenden diesen an den richtigen Kunden.\n",
    "\n",
    "<img src=\"figs/public-private-codes.png\" alt=\"Public, Private Codes\" style=\"width:400px;\"/>\n",
    "\n",
    "Ihre Aufgabe ist es eine oder mehrere Funktionen aus den bisher implementierten Funktionen zu finden, welche Ihnen aus dem _Private Code_ `private_code` und einem _User Code_ `user_code` einen `public_code` berechnet.\n",
    "Welche der folgenden Funktion(en)\n",
    "\n",
    "- `invert`\n",
    "- `intersect`\n",
    "- `union`\n",
    "- `sdiff`\n",
    "\n",
    "brauchen Sie?\n",
    "\n",
    "**Beispiel:** Angenommen Ihr _User Code_ wäre 10110 und Ihr _Private Code_ 01100, dann müsste Ihr _Public Code_ gleich 11010 sein, denn:\n"
   ]
  },
  {
   "cell_type": "code",
   "execution_count": null,
   "metadata": {
    "deletable": false,
    "editable": false
   },
   "outputs": [],
   "source": [
    "public_code = [[1,1,0,1,0]]\n",
    "private_code = [[0,1,1,0,0]]\n",
    "print(sdiff(public_code, private_code))\n",
    "print(sdiff(private_code, public_code))"
   ]
  },
  {
   "cell_type": "markdown",
   "metadata": {},
   "source": [
    "**_Aufgabe 11 (Code lesen - Verschlüsselung), Denkaufgabe._**\n",
    "\n",
    "Lassen Sie uns das testen.\n",
    "Lesen Sie den folgenden Code und versuchen Sie diesen nachzuvollziehen.\n",
    "\n",
    "Wir nehmen einen QR-Code der mit $24 \\times 24$ Pixeln.\n",
    "Die Funktion `random_picture` erzeugt uns einen zufälligen _Private Code_.\n",
    "Mit der Funktion `random.randint` des Pakets `random` erzeugen wir zufällige Zahlen.\n"
   ]
  },
  {
   "cell_type": "code",
   "execution_count": null,
   "metadata": {},
   "outputs": [],
   "source": [
    "import random\n",
    "random.randint(0,1)\n",
    "\n",
    "n = 24\n",
    "\n",
    "def random_picture(height, width):\n",
    "    return [[random.randint(0,1) for _ in range(width)] for _ in range(height)]\n",
    "\n",
    "# (1) erzeuge zufälligen privaten code, dieser ist für alle public codes gleich und muss geheim bleiben\n",
    "private_code = random_picture(n, n)\n",
    "plot_picture(private_code, scale = 0.1)\n",
    "\n",
    "# (2) erzeuge ein geheimes Passwort welches für alle Kunden gleich ist. Nur wir kennen das Passwort\n",
    "n_passwort_chars = 12\n",
    "password = ''.join([chr(random.randint(49, 90)) for _ in range(n_passwort_chars)])\n",
    "print(f'password: {password}')\n",
    "\n",
    "# (3) erzeuge für jeden Kunden einen zuälligen Text der dessen Name und das Passwort enthält.\n",
    "name = 'Zoennchen'\n",
    "marker = '0'\n",
    "n_chars = (n * n // 8) - len(name) - len(password) - len(marker) * 3\n",
    "rand_len = random.randint(1,n_chars-1)\n",
    "rand_text1 = ''.join([chr(random.randint(49, 90)) for _ in range(rand_len)])\n",
    "rand_text2 = ''.join([chr(random.randint(49, 90)) for _ in range(n_chars-rand_len)])\n",
    "random_user_text = name+marker+rand_text1+marker+password+marker+rand_text2\n",
    "print(f'random user text: {random_user_text}')\n",
    "\n",
    "# (4) erzeuge aus dem Text einen user code. Diesen code können wir nach dem erzeugen des public codes wieder wegwerfen!\n",
    "user_code = encode(random_user_text, n)\n",
    "plot_picture(user_code, scale = 0.1)\n",
    "\n",
    "# (5) erzeuge public key, dieser ist nicht geheim und wird dem Kunden gegeben\n",
    "public_code = sdiff(private_code, user_code)\n",
    "plot_picture(public_code, scale = 0.1)"
   ]
  },
  {
   "cell_type": "code",
   "execution_count": null,
   "metadata": {},
   "outputs": [],
   "source": [
    "# (6) Am des Tanzclubs berechnen wir aus public key (vom Kunden) und private key (den wir haben) den eigentlichen user code\n",
    "user_code = sdiff(private_code, public_code)\n",
    "plot_picture(user_code, scale = 0.1)\n",
    "\n",
    "# (7) und lesen die Information aus und vergleichen das Passwort (was nur wir kennen) und \n",
    "# den Namen, den wir mit dem Ausweis des Kunden vergleichen\n",
    "decoded_text = decode(user_code)\n",
    "print(decoded_text)\n",
    "\n",
    "# Da wir oben als Markierung für das Password die 0 eingesetzt ahben und diese nirgends anderswo verwendet haben\n",
    "# können wir, obwohl wir den zufälligen Mülltext nicht kennen, Nachname und Passwort auslesen\n",
    "start_pos = 0\n",
    "end_pos = decoded_text.find(marker)\n",
    "coded_name = decoded_text[start_pos:end_pos]\n",
    "print(f'name: {coded_name}, {name == coded_name}')\n",
    "\n",
    "start_pos = decoded_text.find(marker, end_pos + len(marker)) + len(marker)\n",
    "end_pos = decoded_text.find(marker, start_pos)\n",
    "coded_pw = decoded_text[start_pos:end_pos]\n",
    "print(f'password: {coded_pw}, {password == coded_pw}')"
   ]
  },
  {
   "attachments": {},
   "cell_type": "markdown",
   "metadata": {},
   "source": [
    "### Für die interessierte Leserschaft\n",
    "\n",
    "#### Verschlüsselung\n",
    "\n",
    "In der IT-Sicherheit geht man von Kerckhoffs-Prinzip aus:\n",
    "\n",
    "> Die **Sicherheit** eines Kryptosystems darf **nicht** von der **Geheimhaltung** des **Algorithmus** abhängen.\n",
    "> Die **Sicherheit** gründet sich nur auf die **Geheimhaltung** des **Schlüssels**. - Auguste Kerckhoffs (1835 - 1903)\n",
    "\n",
    "In anderen Worten, wir müssen davon ausgehen, dass ein Angreifer weiß, dass wir eine **XOR**-Operation durchführen.\n",
    "\n",
    "Unter dieser Annahme ist unsere **symmetrische XOR-Verschlüsselung** nicht besonders sicher, da wir durch die Analyse von mehreren _Public Codes_ Muster erkennen können.\n",
    "Kennt man das am häufigsten vorkommende Zeichen im Klartext, so ist die Ermittlung des Schlüssels und somit auch des Klartextes möglich.\n",
    "\n",
    "Der _User Code_ (die Klartextnachricht) muss geheim bleiben, da sonst durch _Public Code_ und _User Code_ der _Private Code_ konstruiert werden kann.\n",
    "Dadurch, dass das Passwort jeweils an einer anderen Stelle im Code steht, ist eine gewisse Hürde eingebaut.\n",
    "Den _Private Code_ kann man, wenn man nur _Public Codes_ besitzt, nicht so leicht rekonstruieren.\n",
    "\n",
    "Wenn Sie durch diese Technik verschlüsselte Nachrichten austauschen wollen, müssen alle Teilnehmer den gleichen _Private Code_ besitzen.\n",
    "Sie gehen dann wie folgt vor:\n",
    "\n",
    "1. Schreiben der Nachrichten\n",
    "2. Erzeugung eines _User Codes_ aus der Nachricht\n",
    "3. Berechnung des _Public Codes_ der Nachricht\n",
    "4. Versenden des _Public Codes_\n",
    "\n",
    "Die Empfänger\n",
    "\n",
    "1. Empfangen den _Public Code_\n",
    "2. Generieren durch den _Private Code_ den _User Code_ (unverschlüsselte Nachricht)\n",
    "3. Rekontruieren aus _User Code_ die Nachricht und löschen den _User Code_\n"
   ]
  },
  {
   "attachments": {},
   "cell_type": "markdown",
   "metadata": {},
   "source": [
    "#### Warum XOR?\n",
    "\n",
    "Wir haben `sdiff`, d.h., die **XOR**-Operation für die Verschlüsselung verwendet.\n",
    "Warum eignet sich das **AND** oder das **OR** nicht?\n",
    "Im folgenden geben wir Ihnen zur Beantwortung einen visuellen Hinweis.\n",
    "\n",
    "Wir laden ein Bild vom roten Würfel und wandeln dieses in unser Format um.\n",
    "\n",
    "Wir erzeugen daraufhin ein Zufallsbild der gleichen Größe und wenden `intersect`, `union` und `sdiff` an.\n",
    "Was beobachten Sie?\n"
   ]
  },
  {
   "cell_type": "code",
   "execution_count": null,
   "metadata": {},
   "outputs": [],
   "source": [
    "import PIL as pil\n",
    "import numpy as np\n",
    "\n",
    "image = pil.Image.open('./figs/red-dice.jpg')\n",
    "image_asarray = np.asarray(image)\n",
    "height = image_asarray.shape[0] \n",
    "width = image_asarray.shape[1]\n",
    "\n",
    "red_dice = []\n",
    "for row in image_asarray:\n",
    "    red_dice_row = []\n",
    "    for col in row:\n",
    "        avg = np.sum(col)/3 # avg of 3 channels\n",
    "        red_dice_row.append(0 if avg <= 255/2 else 1)\n",
    "    red_dice.append(red_dice_row)\n",
    "    \n",
    "rand_pic = random_picture(height, width)    \n",
    "display(image)"
   ]
  },
  {
   "cell_type": "code",
   "execution_count": null,
   "metadata": {},
   "outputs": [],
   "source": [
    "# Originalbild\n",
    "plot_picture(red_dice, scale=0.01)"
   ]
  },
  {
   "cell_type": "code",
   "execution_count": null,
   "metadata": {},
   "outputs": [],
   "source": [
    "# Zufalliges Bild (Rauschen)\n",
    "plot_picture(rand_pic, scale=0.01)"
   ]
  },
  {
   "cell_type": "code",
   "execution_count": null,
   "metadata": {},
   "outputs": [],
   "source": [
    "# AND / UND\n",
    "plot_picture(union(rand_pic, red_dice), scale=0.01)"
   ]
  },
  {
   "cell_type": "code",
   "execution_count": null,
   "metadata": {},
   "outputs": [],
   "source": [
    "# OR / ODER\n",
    "plot_picture(intersect(rand_pic, red_dice), scale=0.01)"
   ]
  },
  {
   "cell_type": "code",
   "execution_count": null,
   "metadata": {},
   "outputs": [],
   "source": [
    "# XOR / ENTWEDER ODER\n",
    "plot_picture(sdiff(rand_pic, red_dice), scale=0.01)"
   ]
  },
  {
   "cell_type": "markdown",
   "metadata": {
    "deletable": false,
    "editable": false
   },
   "source": [
    "---\n",
    "\n",
    "**Hinweis**: Durch Auswertung der folgenden Zelle werden alle Tests ausgeführt.\n",
    "Sie sollten das Notebook zuvor bis hier hin von oben nach unten ausgewertet haben.\n"
   ]
  },
  {
   "cell_type": "code",
   "execution_count": null,
   "metadata": {
    "deletable": false,
    "editable": false
   },
   "outputs": [],
   "source": [
    "grader.check_all()"
   ]
  }
 ],
 "metadata": {
  "kernelspec": {
   "display_name": "Python 3.10.4 ('ct')",
   "language": "python",
   "name": "python3"
  },
  "language_info": {
   "codemirror_mode": {
    "name": "ipython",
    "version": 3
   },
   "file_extension": ".py",
   "mimetype": "text/x-python",
   "name": "python",
   "nbconvert_exporter": "python",
   "pygments_lexer": "ipython3",
   "version": "3.11.6"
  },
  "otter": {
   "OK_FORMAT": false,
   "assignment_name": "08_2_Binaere_Bilder",
   "tests": {
    "q2": "from otter.test_files import test_case\n\nOK_FORMAT = False\n\nname = \"q2\"\npoints = None\n\n@test_case(points=None, hidden=False, \n    success_message=\"Sieht richtig aus!\", \n    failure_message=\"Da ist was schief gegangen!\")\ndef test_create_canvas(create_canvas):\n    assert create_canvas(1,1,0) == [[1]]\n    assert create_canvas(1,1,1) == [[0]]\n    assert create_canvas(2,1,0) == [[1, 1]]\n    assert create_canvas(1,2,0) == [[1], [1]]\n    assert create_canvas(3,3,1) == [[0, 0, 0], [0, 1, 0], [0, 0, 0]]\n",
    "q3": "from otter.test_files import test_case\n\nOK_FORMAT = False\n\nname = \"q3\"\npoints = None\n\n@test_case(points=None, hidden=False, \n    success_message=\"Sieht richtig aus!\", \n    failure_message=\"Da ist was schief gegangen!\")\ndef test_invert(invert):\n    assert invert([[1]]) == [[0]]\n    assert invert([[0]]) == [[1]]\n    assert invert([[1, 1]]) == [[0, 0]]\n    assert invert([[1], [1]]) == [[0], [0]]\n    assert invert([[0, 0, 0], [0, 1, 0], [0, 0, 0]]) == [[1, 1, 1], [1, 0, 1], [1, 1, 1]]\n",
    "q4": "from otter.test_files import test_case\n\nOK_FORMAT = False\n\nname = \"q4\"\npoints = None\n\n@test_case(points=None, hidden=False, \n    success_message=\"Sieht richtig aus!\", \n    failure_message=\"Da ist was schief gegangen!\")\ndef test_intersect(intersect):\n    assert intersect([[1]], [[1]]) == [[1]]\n    assert intersect([[0]], [[1]]) == [[0]]\n    assert intersect([[1]], [[0]]) == [[0]]\n    assert intersect([[0]], [[0]]) == [[0]]\n    assert intersect([[0, 0, 0], [0, 1, 1], [0, 0, 1]], [[1, 1, 1], [1, 1, 0], [1, 1, 1]]) == [[0, 0, 0], [0, 1, 0], [0, 0, 1]]\n",
    "q5": "from otter.test_files import test_case\n\nOK_FORMAT = False\n\nname = \"q5\"\npoints = None\n\n@test_case(points=None, hidden=False, \n    success_message=\"Sieht richtig aus!\", \n    failure_message=\"Da ist was schief gegangen!\")\ndef test_union(union):\n    assert union([[1]], [[1]]) == [[1]]\n    assert union([[0]], [[1]]) == [[1]]\n    assert union([[1]], [[0]]) == [[1]]\n    assert union([[0]], [[0]]) == [[0]]\n    assert union([[0, 0, 0], [0, 1, 1], [0, 0, 1]], [[0, 1, 1], [1, 1, 0], [1, 0, 0]]) == [[0, 1, 1], [1, 1, 1], [1, 0, 1]]\n",
    "q6": "from otter.test_files import test_case\n\nOK_FORMAT = False\n\nname = \"q6\"\npoints = None\n\n@test_case(points=None, hidden=False, \n    success_message=\"Sieht richtig aus!\", \n    failure_message=\"Da ist was schief gegangen!\")\ndef test_sdiff(sdiff):\n    assert sdiff([[1]], [[1]]) == [[0]]\n    assert sdiff([[0]], [[1]]) == [[1]]\n    assert sdiff([[1]], [[0]]) == [[1]]\n    assert sdiff([[0]], [[0]]) == [[0]]\n    assert sdiff([[0, 0, 0], [0, 1, 1], [0, 0, 1]], [[0, 1, 1], [1, 1, 0], [1, 0, 0]]) == [[0, 1, 1], [1, 0, 1], [1, 0, 1]]\n",
    "q7": "from otter.test_files import test_case\n\nOK_FORMAT = False\n\nname = \"q7\"\npoints = None\n\n@test_case(points=None, hidden=False, \n    success_message=\"Sieht richtig aus!\", \n    failure_message=\"Da ist was schief gegangen!\")\ndef test_create_alternating_canvas(create_alternating_canvas):\n    assert create_alternating_canvas(1,1) == [[0]]\n    assert create_alternating_canvas(2,2) == [[0, 0], [0, 0]]\n    assert create_alternating_canvas(3,3) == [[0, 0, 0], [0, 1, 0], [0, 0, 0]]\n    assert create_alternating_canvas(4,3) == [[0, 0, 0, 0], [0, 1, 1, 0], [0, 0, 0, 0]]\n    assert create_alternating_canvas(5,4) == [\n        [0, 0, 0, 0, 0], \n        [0, 1, 1, 1, 0], \n        [0, 1, 1, 1, 0], \n        [0, 0, 0, 0, 0]]\n    assert create_alternating_canvas(5,5) == [\n        [0, 0, 0, 0, 0], \n        [0, 1, 1, 1, 0], \n        [0, 1, 0, 1, 0], \n        [0, 1, 1, 1, 0],\n        [0, 0, 0, 0, 0]]\n",
    "q8": "from otter.test_files import test_case\n\nOK_FORMAT = False\n\nname = \"q8\"\npoints = None\n\n@test_case(points=None, hidden=False, \n    success_message=\"Sieht richtig aus!\", \n    failure_message=\"Da ist was schief gegangen!\")\ndef test_encode(encode):\n    assert encode('a', 3) == [[0, 1, 1], [0, 0, 0], [0, 1, 0]]\n    assert encode('a', 4) == [[0, 1, 1, 0], [0, 0, 0, 1], [0, 0, 0, 0], [0, 0, 0, 0]]\n    assert encode('a b', 5) == [[0, 1, 1, 0, 0],[0, 0, 1, 0, 0],[1, 0, 0, 0, 0],[0, 0, 1, 1, 0],[0, 0, 1, 0, 0]]\n    assert encode('/', 3) == [[0, 0, 1], [0, 1, 1], [1, 1, 0]]\n",
    "q9": "from otter.test_files import test_case\n\nOK_FORMAT = False\n\nname = \"q9\"\npoints = None\n\n@test_case(points=None, hidden=False, \n    success_message=\"Sieht richtig aus!\", \n    failure_message=\"Da ist was schief gegangen!\")\ndef test_decode(decode):\n    assert decode([[0, 1, 1], [0, 0, 0], [0, 1, 0]]) == 'a'\n    assert decode([[0, 1, 1], [0, 0, 0], [1, 0, 0]]) == 'b'\n    assert decode([[0, 0, 1], [0, 1, 1], [1, 1, 0]]) == '/'\n    assert decode([[0, 1, 0, 0, 1, 0, 0, 0, 0, 1],\n [1, 0, 0, 1, 0, 1, 0, 1, 1, 0],\n [1, 1, 0, 0, 0, 1, 1, 0, 1, 1],\n [0, 0, 0, 1, 1, 0, 1, 1, 1, 1],\n [0, 0, 1, 0, 0, 0, 0, 0, 0, 1],\n [0, 1, 0, 1, 1, 1, 0, 1, 1, 0],\n [1, 1, 1, 1, 0, 1, 1, 1, 0, 0],\n [1, 0, 0, 1, 1, 0, 1, 1, 0, 0],\n [0, 1, 1, 0, 0, 1, 0, 0, 0, 0],\n [0, 0, 0, 0, 0, 0, 0, 0, 0, 0]]) == 'Hello World'\n    \n"
   }
  },
  "vscode": {
   "interpreter": {
    "hash": "881d337900756e70a76eada1facb65e60ce30b1cc249c92e2adf60a26cf555a8"
   }
  }
 },
 "nbformat": 4,
 "nbformat_minor": 2
}
