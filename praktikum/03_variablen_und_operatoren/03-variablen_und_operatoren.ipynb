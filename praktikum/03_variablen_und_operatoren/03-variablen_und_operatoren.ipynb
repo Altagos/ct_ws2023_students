{
 "cells": [
  {
   "cell_type": "code",
<<<<<<< HEAD
   "execution_count": 172,
   "id": "6a135029",
=======
   "execution_count": null,
   "id": "8209d52a",
>>>>>>> 62e14cfcdc8eecf18861aeeb662e9094b5c3e3c0
   "metadata": {
    "deletable": false,
    "editable": false
   },
   "outputs": [],
   "source": [
    "# Initialize Otter\n",
    "import otter\n",
    "grader = otter.Notebook(\"03-variablen_und_operatoren.ipynb\")"
   ]
  },
  {
   "cell_type": "markdown",
   "id": "37d3df60",
   "metadata": {},
   "source": [
    "# Computational Thinking WS2023/24\n",
    "\n",
    "**Autoren:**\n",
    "\n",
    "- Dr. Benedikt Zönnchen\n",
    "- Prof. Martin Hobelsberger\n",
    "- Prof. Benedikt Dietrich\n"
   ]
  },
  {
   "attachments": {},
   "cell_type": "markdown",
   "id": "detected-links",
   "metadata": {},
   "source": [
    "## 1 Grundlagen - Variablen\n",
    "\n",
    "[CT-Buch Kapitel 13.1 Variablen](https://bzoennchen.github.io/ct-book/chapters/03-3/1-variables.html)\n",
    "\n",
    "_Variablen_ können wir uns intuitiv zunächst als Namen oder Bezeichnung eines Wertes vorstellen.\n",
    "Mit diesem Namen können wir einen Wert im _Arbeitsspeicherspeicher_ des Computers identifizieren.\n",
    "So können wir uns Zwischenergebnisse merken und damit weiter rechnen.\n",
    "\n",
    "### 1.1 Initialisierung und Zuweisung\n",
    "\n",
    "Durch das `=` Zeichen weisen wir einer _Variablen_ auf der linken Seite den Wert des _Ausdrucks_ auf der rechten Seite zu: `[Variable] = [Ausdruck]`.\n",
    "Zum Beispiel, weist\n"
   ]
  },
  {
   "cell_type": "code",
   "execution_count": 173,
   "id": "shaped-estate",
   "metadata": {},
   "outputs": [],
   "source": [
    "x = 3 + 10"
   ]
  },
  {
   "cell_type": "markdown",
   "id": "excess-slovak",
   "metadata": {},
   "source": [
    "den ausgewerteten Wert `3 + 10`, also `13` der Variablen `x` zu.\n",
    "Der Ausdruck `3 + 10` wird vor der Zuweisung ausgewertet / berechnet.\n",
    "Es ist äußerst wichtig, dass Sie zwischen dem `=` (Zuweisung) und dem mathematischen $=$ (Vergleich) unterscheiden.\n",
    "\n",
    "$$x = 13$$\n",
    "\n",
    "bedeutet, dass $x$ gleich $13$ ist, wohingegen\n"
   ]
  },
  {
   "cell_type": "code",
   "execution_count": 174,
   "id": "still-immunology",
   "metadata": {},
   "outputs": [],
   "source": [
    "x = 13"
   ]
  },
  {
   "cell_type": "markdown",
   "id": "charitable-cream",
   "metadata": {},
   "source": [
    "den Wert der Variablen `x` auf `13` setzt oder genaue die Variable auf einen Speicherbereich verweisen lässt, welcher den Wert `13` enthält.\n",
    "Um das mathematisch auszurücken verwendet man oft eine Pfeil $\\leftarrow$, also\n",
    "\n",
    "$$x \\leftarrow 13.$$\n",
    "\n",
    "Der Pfeil soll verdeutlichen, dass es sich um eine _Zuweisung_ handelt. Mit\n"
   ]
  },
  {
   "cell_type": "code",
   "execution_count": 175,
   "id": "correct-lecture",
   "metadata": {},
   "outputs": [],
   "source": [
    "x = None"
   ]
  },
  {
   "cell_type": "markdown",
   "id": "affecting-workstation",
   "metadata": {},
   "source": [
    "weisen wir `x` den Wert `None` d.h. 'Nichts' zu. Doch ist dieses 'Nichts' nicht nichts ;) sondern **repräsentiert** das Nichts.\n",
    "\n",
    "Versuchen wir eine _Variable_ zu verarbeiten, die noch nicht initialisiert wurde, so erhalten wir einen Fehler:\n"
   ]
  },
  {
   "cell_type": "code",
   "execution_count": 176,
   "id": "reported-adjustment",
   "metadata": {},
   "outputs": [],
   "source": [
    "v = 20"
   ]
  },
  {
   "cell_type": "markdown",
   "id": "quiet-honey",
   "metadata": {},
   "source": [
    "Die Fehlermeldung des Interpreters `name 'v' is not defined` weist uns darauf hin, dass die _Variable_ `v` noch nicht _initialisiert_ wurde.\n",
    "\n",
    "In `Python` reicht es wenn Sie der _Variablen_ einen Wert zuweisen.\n",
    "Sie wird automatisch erzeugt, d.h., _initialisiert_.\n",
    "Besitzt sie noch keinen Wert, so existiert sie auch nicht bzw. ist noch nicht _initialisiert_.\n",
    "\n",
    "Variablen können nicht beliebig benannt werden.\n",
    "\n",
    "- Sie können **keine** Leerzeichen enthalten (falsch: `test var`)\n",
    "- Sie dürfen lediglich Buchstaben, Zahlen und den Unterstrich enthalten (falsch: `test_var!`)\n",
    "- Sie müssen mit einem Buchstaben oder dem Unterstrich starten (falsch: `1_test_var`)\n",
    "\n",
    "Gut und konsistent benannte Variablen helfen Ihnen und anderen dabei Programmcode besser zu verstehen.\n",
    "\n",
    "Mit der `print()`-Funktion, können Sie sich jederzeit den Wert der Variablen ausgeben lassen.\n"
   ]
  },
  {
   "cell_type": "code",
   "execution_count": 177,
   "id": "f5ca51eb",
   "metadata": {},
   "outputs": [
    {
     "name": "stdout",
     "output_type": "stream",
     "text": [
      "42\n"
     ]
    }
   ],
   "source": [
    "x = 42\n",
    "print(x)"
   ]
  },
  {
   "cell_type": "markdown",
   "id": "971bef52",
   "metadata": {},
   "source": [
    "In der Notebookumgebung wird der Wert der letzten Zeile einer Zelle immer ausgegeben (außer dieser ist gleich `None`).\n"
   ]
  },
  {
   "cell_type": "code",
   "execution_count": 178,
   "id": "20812236",
   "metadata": {},
   "outputs": [
    {
     "data": {
      "text/plain": [
       "'gib diese Zeichenkette aus'"
      ]
     },
     "execution_count": 178,
     "metadata": {},
     "output_type": "execute_result"
    }
   ],
   "source": [
    "'gib diese Zeichenkette aus'"
   ]
  },
  {
   "cell_type": "code",
   "execution_count": 179,
   "id": "a51e0c10",
   "metadata": {},
   "outputs": [],
   "source": [
    "None # keine Aussgabe"
   ]
  },
  {
   "cell_type": "markdown",
   "id": "75aeeab7",
   "metadata": {},
   "source": [
    "---\n"
   ]
  },
  {
   "cell_type": "markdown",
   "id": "recorded-public",
   "metadata": {
    "deletable": false,
    "editable": false
   },
   "source": [
    "**_Aufgabe 1_**\n",
    "\n",
    "Initialisieren Sie die _Variable_ `number` sodass folgender Code das Ergebnis `42` ausgibt.\n"
   ]
  },
  {
   "cell_type": "code",
   "execution_count": 180,
   "id": "4c86a3a0",
   "metadata": {
    "tags": []
   },
   "outputs": [
    {
     "name": "stdout",
     "output_type": "stream",
     "text": [
      "42\n"
     ]
    }
   ],
   "source": [
    "number = 32\n",
    "number = number + 10\n",
    "print(number)"
   ]
  },
  {
   "cell_type": "code",
<<<<<<< HEAD
   "execution_count": 181,
   "id": "38a30564",
=======
   "execution_count": null,
   "id": "0772a9fb",
>>>>>>> 62e14cfcdc8eecf18861aeeb662e9094b5c3e3c0
   "metadata": {
    "deletable": false,
    "editable": false
   },
   "outputs": [
    {
     "data": {
      "text/html": [
       "<p><strong><pre style='display: inline;'>q1</pre></strong> passed! 🙌</p><p><strong><pre style='display: inline;'>q1 - 1</pre> message:</strong> Richtig!</p>"
      ],
      "text/plain": [
       "q1 results: All test cases passed!\n",
       "q1 - 1 message: Richtig!"
      ]
     },
     "execution_count": 181,
     "metadata": {},
     "output_type": "execute_result"
    }
   ],
   "source": [
    "grader.check(\"q1\")"
   ]
  },
  {
   "cell_type": "markdown",
   "id": "0bab9cfc",
   "metadata": {
    "deletable": false,
    "editable": false
   },
   "source": [
    "**_Aufgabe 2_**\n",
    "\n",
    "Erklären Sie die Ausgabe des folgenden Codes.\n"
   ]
  },
  {
   "cell_type": "markdown",
   "id": "a2ea772d",
   "metadata": {},
   "source": [
    "`print(exp)` den Rückgabe werte der Aussage `exp` zurück. Wenn `exp` eine Variable ist, dann wird der Wert der Variable zurückgegeben. Wenn `exp` eine Funktion ist, dann wird die Funktion ausgeführt und der Rückgabewert der Funktion wird zurückgegeben. Da die Funktion `print()` den Rückgabewert `None` hat wird beim zweiten `print()` aufruf `None` \"gedruckt\".\n"
   ]
  },
  {
   "cell_type": "code",
   "execution_count": 182,
   "id": "cba41b09",
   "metadata": {
    "deletable": false,
    "editable": false
   },
   "outputs": [
    {
     "name": "stdout",
     "output_type": "stream",
     "text": [
      "42\n",
      "None\n"
     ]
    }
   ],
   "source": [
    "print(print(42))"
   ]
  },
  {
   "cell_type": "markdown",
   "id": "c0bf3ae8",
   "metadata": {},
   "source": [
    "---\n"
   ]
  },
  {
   "attachments": {},
   "cell_type": "markdown",
   "id": "310e36b5",
   "metadata": {},
   "source": [
    "### 1.2 Veränderung\n",
    "\n",
    "In `Python` können Sie den Wert einer Variablen jederzeit verändern, indem Sie ihren aktuellen Wert **überschreiben**.\n"
   ]
  },
  {
   "cell_type": "code",
   "execution_count": 183,
   "id": "f0970ce9",
   "metadata": {},
   "outputs": [
    {
     "name": "stdout",
     "output_type": "stream",
     "text": [
      "42\n",
      "100\n"
     ]
    }
   ],
   "source": [
    "x = 42\n",
    "print(x)\n",
    "x = 100\n",
    "print(x)"
   ]
  },
  {
   "cell_type": "markdown",
   "id": "6e69f392",
   "metadata": {},
   "source": [
    "In den Jupyter-Notebooks bleibt der Wert einer Variable für nachfolgende Zellen erhalten, allerdings spielt die Reihenfolge in der Sie die Zellen ausgeführt haben eine wichtige Rolle!\n"
   ]
  },
  {
   "cell_type": "code",
   "execution_count": 184,
   "id": "e2d91308",
   "metadata": {},
   "outputs": [],
   "source": [
    "x = 111"
   ]
  },
  {
   "cell_type": "code",
   "execution_count": 185,
   "id": "9e722170",
   "metadata": {},
   "outputs": [
    {
     "name": "stdout",
     "output_type": "stream",
     "text": [
      "111\n"
     ]
    }
   ],
   "source": [
    "print(x)"
   ]
  },
  {
   "cell_type": "code",
   "execution_count": 186,
   "id": "95692bc8",
   "metadata": {},
   "outputs": [],
   "source": [
    "x = x + 3"
   ]
  },
  {
   "cell_type": "markdown",
   "id": "b7675c14",
   "metadata": {},
   "source": [
    "---\n"
   ]
  },
  {
   "cell_type": "markdown",
   "id": "38e22b4b",
   "metadata": {
    "deletable": false,
    "editable": false
   },
   "source": [
    "**_Aufgabe 3_**\n",
    "\n",
    "Werten Sie folgende Zeilen in beliebiger Reihenfolge wiederholt aus, bis die Variable `z` den Wert `100` enthält. Wie viele Auswertungen benötigen sie mindestens?\n"
   ]
  },
  {
   "cell_type": "markdown",
   "id": "c36138a4",
   "metadata": {},
   "source": [
    "**Antwort**: 5\n"
   ]
  },
  {
   "cell_type": "code",
   "execution_count": 187,
   "id": "65b7118f",
   "metadata": {
    "deletable": false,
    "editable": false
   },
   "outputs": [],
   "source": [
    "z = 15"
   ]
  },
  {
   "cell_type": "code",
   "execution_count": 188,
   "id": "3efba25e",
   "metadata": {
    "deletable": false,
    "editable": false
   },
   "outputs": [
    {
     "name": "stdout",
     "output_type": "stream",
     "text": [
      "30\n"
     ]
    }
   ],
   "source": [
    "z = z + z\n",
    "print(z)"
   ]
  },
  {
   "cell_type": "code",
   "execution_count": 189,
   "id": "c7ae3f98",
   "metadata": {
    "deletable": false,
    "editable": false
   },
   "outputs": [
    {
     "name": "stdout",
     "output_type": "stream",
     "text": [
      "25\n"
     ]
    }
   ],
   "source": [
    "z = z - 5\n",
    "print(z)"
   ]
  },
  {
   "cell_type": "markdown",
   "id": "448dbd70",
   "metadata": {},
   "source": [
    "---\n"
   ]
  },
  {
   "cell_type": "markdown",
   "id": "0621dd3c",
   "metadata": {},
   "source": [
    "### 1.3 Arithmetische Operatoren\n",
    "\n",
    "Die Multiplikation `*` wie auch die Potenz `**` bezeichnen wir als _arithmetische Operatoren_, da sie numerische Werte (Zahlen) verarbeiten.\n",
    "Es gibt jedoch noch eine ganze Reihe von weiteren _arithmetische Operatoren_:\n",
    "\n",
    "| Operator |     Beschreibung     | Beispiel |                      Bedeutung                       |\n",
    "| :------: | :------------------: | :------: | :--------------------------------------------------: |\n",
    "|   `+`    |       Addition       | `3 + 4`  |                       $3 + 4$                        |\n",
    "|   `-`    |     Subtraktion      | `3 - 4`  |                       $3 - 4$                        |\n",
    "|   `*`    |    Multiplikation    | `3 * 4`  |                     $3 \\cdot 4$                      |\n",
    "|   `/`    |       Division       | `3 / 4`  |                       $3 / 4$                        |\n",
    "|   `**`   |     Potenzierung     |  `3**4`  |                        $3^4$                         |\n",
    "|   `//`   | ganzzahlige Division | `3 // 4` |          $\\left \\lfloor{3/4}\\right \\rfloor$          |\n",
    "|   `%`    |        Modulo        | `10 % 4` | $$10 - (4 \\cdot \\left \\lfloor{10/4}\\right \\rfloor)$$ |\n",
    "\n",
    "Jeder dieser Operatoren `op` erwartet zwei Zahlen, eine links und eine rechts vom jeweiligen Operator.\n",
    "Die Bedeutung der Modulo-Operation sieht kompliziert aus doch bedeutet dies schlicht, dass der Rest `10 % 4` der ganzzahlige Rest der _Restwertdivision_ ist.\n",
    "Die ganzzahlige Division rundet das Ergebnis der Division auf die nächst kleinere ganze Zahl (Integer).\n"
   ]
  },
  {
   "cell_type": "code",
   "execution_count": 190,
   "id": "29087a5c",
   "metadata": {},
   "outputs": [
    {
     "data": {
      "text/plain": [
       "-1"
      ]
     },
     "execution_count": 190,
     "metadata": {},
     "output_type": "execute_result"
    }
   ],
   "source": [
    "-2 // 3"
   ]
  },
  {
   "cell_type": "code",
   "execution_count": 191,
   "id": "b600f399",
   "metadata": {},
   "outputs": [
    {
     "data": {
      "text/plain": [
       "-0.6666666666666666"
      ]
     },
     "execution_count": 191,
     "metadata": {},
     "output_type": "execute_result"
    }
   ],
   "source": [
    "-2 / 3"
   ]
  },
  {
   "cell_type": "code",
   "execution_count": 192,
   "id": "d51d68ae",
   "metadata": {},
   "outputs": [
    {
     "data": {
      "text/plain": [
       "0"
      ]
     },
     "execution_count": 192,
     "metadata": {},
     "output_type": "execute_result"
    }
   ],
   "source": [
    "2 // 3"
   ]
  },
  {
   "cell_type": "code",
   "execution_count": 193,
   "id": "20cbd9d1",
   "metadata": {},
   "outputs": [
    {
     "data": {
      "text/plain": [
       "0.6666666666666666"
      ]
     },
     "execution_count": 193,
     "metadata": {},
     "output_type": "execute_result"
    }
   ],
   "source": [
    "2 / 3"
   ]
  },
  {
   "cell_type": "code",
   "execution_count": 194,
   "id": "26c6338d",
   "metadata": {},
   "outputs": [
    {
     "data": {
      "text/plain": [
       "4"
      ]
     },
     "execution_count": 194,
     "metadata": {},
     "output_type": "execute_result"
    }
   ],
   "source": [
    "14 % 5"
   ]
  },
  {
   "cell_type": "code",
   "execution_count": 195,
   "id": "2276b021",
   "metadata": {},
   "outputs": [
    {
     "data": {
      "text/plain": [
       "4"
      ]
     },
     "execution_count": 195,
     "metadata": {},
     "output_type": "execute_result"
    }
   ],
   "source": [
    "14 - (14 // 5)*5"
   ]
  },
  {
   "cell_type": "code",
   "execution_count": 196,
   "id": "3544f92d",
   "metadata": {},
   "outputs": [
    {
     "data": {
      "text/plain": [
       "True"
      ]
     },
     "execution_count": 196,
     "metadata": {},
     "output_type": "execute_result"
    }
   ],
   "source": [
    "x = 12314\n",
    "y = 7\n",
    "\n",
    "x % y == x - (x // y) * y"
   ]
  },
  {
   "cell_type": "markdown",
   "id": "50c80771",
   "metadata": {},
   "source": [
    "---\n"
   ]
  },
  {
   "cell_type": "markdown",
   "id": "c7b0a85c",
   "metadata": {
    "deletable": false,
    "editable": false
   },
   "source": [
    "**_Aufgabe 4_**\n",
    "\n",
    "Finden Sie heraus wie `Python` arithmetische Operationen priorisiert.\n",
    "Zum Beispiel ist\n",
    "\n",
    "```python\n",
    "3 + 3 * 5**4\n",
    "```\n",
    "\n",
    "gleich\n",
    "\n",
    "$$3 + 3 \\cdot 5^4$$\n",
    "\n",
    "oder, zum Beispiel,\n",
    "\n",
    "$$((3 + 3) \\cdot 5)^4?$$\n",
    "\n",
    "Notieren sie die Prioritäten von der höchsten zur niedrigsten Priorität.\n"
   ]
  },
  {
   "cell_type": "markdown",
   "id": "7c130d19",
   "metadata": {
    "deletable": false,
    "editable": false
   },
   "source": [
    "**_Aufgabe 5_**\n",
    "\n",
    "Eine Person dreht sich um `x` Grad im Kreis. Bestimmen Sie wie viele abgeschlossene Umdrehungen `cycles` sie gemacht hat. Wie viel Grad `rest` haben für die letzte volle Umdrehung gefehlt?\n"
   ]
  },
  {
   "cell_type": "code",
   "execution_count": 235,
   "id": "0a4a382c",
   "metadata": {
    "tags": []
   },
   "outputs": [
    {
     "data": {
      "text/plain": [
       "(8, 261, 8.725)"
      ]
     },
     "execution_count": 235,
     "metadata": {},
     "output_type": "execute_result"
    }
   ],
   "source": [
    "x = 3141 # Grad\n",
    "cycles = x // 360\n",
    "rest = 360 - x % 360\n",
    "\n",
    "(cycles, rest, x / 360)"
   ]
  },
  {
   "cell_type": "code",
<<<<<<< HEAD
   "execution_count": 198,
   "id": "fc5f73c4",
=======
   "execution_count": null,
   "id": "cf2256fa",
>>>>>>> 62e14cfcdc8eecf18861aeeb662e9094b5c3e3c0
   "metadata": {
    "deletable": false,
    "editable": false
   },
   "outputs": [
    {
     "data": {
      "text/html": [
       "<p><strong><pre style='display: inline;'>q5</pre></strong> passed! 🍀</p><p><strong><pre style='display: inline;'>q5 - 1</pre> message:</strong> Sie haben die Aufgabe korrekt gelöst!</p>"
      ],
      "text/plain": [
       "q5 results: All test cases passed!\n",
       "q5 - 1 message: Sie haben die Aufgabe korrekt gelöst!"
      ]
     },
     "execution_count": 198,
     "metadata": {},
     "output_type": "execute_result"
    }
   ],
   "source": [
    "grader.check(\"q5\")"
   ]
  },
  {
   "cell_type": "markdown",
   "id": "5a426994",
   "metadata": {
    "deletable": false,
    "editable": false
   },
   "source": [
    "**_Aufgabe 6_**\n",
    "\n",
    "Berechnen Sie folgenden Ausdruck\n",
    "\n",
    "$$(5 - 9^2 \\cdot 3)^3$$\n",
    "\n",
    "und weisen Sie das Ergebnis der Variable `x` zu.\n"
   ]
  },
  {
   "cell_type": "code",
   "execution_count": 199,
   "id": "506b106b",
   "metadata": {
    "tags": []
   },
   "outputs": [],
   "source": [
    "x = (5 - (9 ** 2) * 3) ** 3"
   ]
  },
  {
   "cell_type": "code",
<<<<<<< HEAD
   "execution_count": 200,
   "id": "4320418e",
=======
   "execution_count": null,
   "id": "07b1e27b",
>>>>>>> 62e14cfcdc8eecf18861aeeb662e9094b5c3e3c0
   "metadata": {
    "deletable": false,
    "editable": false
   },
   "outputs": [
    {
     "data": {
      "text/html": [
       "<p><strong><pre style='display: inline;'>q6</pre></strong> passed! ✨</p><p><strong><pre style='display: inline;'>q6 - 1</pre> message:</strong> Richtig!</p>"
      ],
      "text/plain": [
       "q6 results: All test cases passed!\n",
       "q6 - 1 message: Richtig!"
      ]
     },
     "execution_count": 200,
     "metadata": {},
     "output_type": "execute_result"
    }
   ],
   "source": [
    "grader.check(\"q6\")"
   ]
  },
  {
   "attachments": {},
   "cell_type": "markdown",
   "id": "77018f92",
   "metadata": {},
   "source": [
    "### 1.4 Mehrere Variablen\n",
    "\n",
    "Normalerweise benötigen wir mehr als eine Variable. Mit gut gewählten Namen geben Variablen die Semantik (**Was berechnet wird**) preis ohne dass wir den Code im Detail betrachten müssen.\n",
    "\n",
    "Im folgenden Beispiel berechnen wir die Anzahl der Sekunden die innerhalb von vier Jahren vertreichen. Dabei verwenden wir fünf Variablen:\n"
   ]
  },
  {
   "cell_type": "code",
   "execution_count": 201,
   "id": "75af593c",
   "metadata": {},
   "outputs": [
    {
     "name": "stdout",
     "output_type": "stream",
     "text": [
      "126144000\n"
     ]
    }
   ],
   "source": [
    "# Create variables\n",
    "num_years = 4\n",
    "days_per_year = 365 \n",
    "hours_per_day = 24\n",
    "mins_per_hour = 60\n",
    "secs_per_min = 60\n",
    "\n",
    "# Calculate number of seconds in four years\n",
    "total_secs = secs_per_min * mins_per_hour * hours_per_day * days_per_year * num_years\n",
    "print(total_secs)"
   ]
  },
  {
   "cell_type": "markdown",
   "id": "4d7e94b8",
   "metadata": {},
   "source": [
    "Die obige Berechnung lässt sich auch mit nur einer (oder keiner) Variablen ausdrücken:\n"
   ]
  },
  {
   "cell_type": "code",
   "execution_count": 202,
   "id": "866598f5",
   "metadata": {},
   "outputs": [
    {
     "name": "stdout",
     "output_type": "stream",
     "text": [
      "126144000\n"
     ]
    }
   ],
   "source": [
    "total_secs = 60 * 60 * 24 * 365 * 4\n",
    "print(total_secs)"
   ]
  },
  {
   "cell_type": "markdown",
   "id": "b5fd0109",
   "metadata": {},
   "source": [
    "In diesem Fall verschlechtert sich die Lesbarkeit nicht unbedingt. Es kommt hierbei auf die Leserschaft Ihres Codes an.\n",
    "\n",
    "Folgende Zwischenlösung finden wir einfacher zu lesen:\n"
   ]
  },
  {
   "cell_type": "code",
   "execution_count": 203,
   "id": "a1bfc772",
   "metadata": {},
   "outputs": [
    {
     "name": "stdout",
     "output_type": "stream",
     "text": [
      "126144000\n"
     ]
    }
   ],
   "source": [
    "secs_per_year = 365 * 24 * 60 * 60\n",
    "total_secs = secs_per_year * 4\n",
    "print(total_secs)"
   ]
  },
  {
   "cell_type": "markdown",
   "id": "3f3796da",
   "metadata": {},
   "source": [
    "In den beiden Beispielen ändern sich unsere Variablen nicht. `secs_per_year` beschreibt, aus wie vielen Sekunden ein Jahr besteht. Dies wird sich niemals ändern.\n",
    "Um Lesern dies zu signalisieren schreiben wir derartige Variablen in Großbuchstaben:\n"
   ]
  },
  {
   "cell_type": "code",
   "execution_count": 204,
   "id": "59fa7f90",
   "metadata": {},
   "outputs": [
    {
     "name": "stdout",
     "output_type": "stream",
     "text": [
      "126144000\n"
     ]
    }
   ],
   "source": [
    "SECS_PER_YEAR = 365 * 24 * 60 * 60\n",
    "years = 4\n",
    "total_secs = SECS_PER_YEAR * years\n",
    "print(total_secs)"
   ]
  },
  {
   "cell_type": "markdown",
   "id": "6f850f96",
   "metadata": {},
   "source": [
    "**Merke**: Variablen die sich niemals ändern (sog. Konstanten) schreiben wir gewöhnlich in Großbuchstaben.\n",
    "\n",
    "Variablen sind immer dann besonders nützlich wenn sich ihr Wert ändert.\n"
   ]
  },
  {
   "cell_type": "markdown",
   "id": "b59d6ca2",
   "metadata": {},
   "source": [
    "---\n"
   ]
  },
  {
   "cell_type": "markdown",
   "id": "a1ab0949",
   "metadata": {
    "deletable": false,
    "editable": false
   },
   "source": [
    "**_Aufgabe 7_**\n",
    "\n",
    "Ändern Sie den Wert eine der Variablen im folgenden Code um die Sekundenanzahl zu berechnen welche innerhalb von 7 Jahren verstreicht.\n"
   ]
  },
  {
   "cell_type": "code",
   "execution_count": 205,
   "id": "42360277",
   "metadata": {
    "tags": []
   },
   "outputs": [
    {
     "name": "stdout",
     "output_type": "stream",
     "text": [
      "220752000\n"
     ]
    }
   ],
   "source": [
    "SECS_PER_YEAR = 365 * 24 * 60 * 60\n",
    "years = 4\n",
    "years = 7\n",
    "total_secs = SECS_PER_YEAR * years\n",
    "print(total_secs)"
   ]
  },
  {
   "cell_type": "code",
<<<<<<< HEAD
   "execution_count": 206,
   "id": "a5c8d0d8",
=======
   "execution_count": null,
   "id": "97504f33",
>>>>>>> 62e14cfcdc8eecf18861aeeb662e9094b5c3e3c0
   "metadata": {
    "deletable": false,
    "editable": false
   },
   "outputs": [
    {
     "data": {
      "text/html": [
       "<p><strong><pre style='display: inline;'>q7</pre></strong> passed! 💯</p><p><strong><pre style='display: inline;'>q7 - 1</pre> message:</strong> Richtig!</p>"
      ],
      "text/plain": [
       "q7 results: All test cases passed!\n",
       "q7 - 1 message: Richtig!"
      ]
     },
     "execution_count": 206,
     "metadata": {},
     "output_type": "execute_result"
    }
   ],
   "source": [
    "grader.check(\"q7\")"
   ]
  },
  {
   "cell_type": "markdown",
   "id": "1a1ffb11",
   "metadata": {},
   "source": [
    "---\n"
   ]
  },
  {
   "cell_type": "markdown",
   "id": "8b1ad47c",
   "metadata": {},
   "source": [
    "Angenommen wir möchten den Flächeninhalt eines Rechtecks berechnen:\n"
   ]
  },
  {
   "cell_type": "code",
   "execution_count": 207,
   "id": "58cfefe8",
   "metadata": {},
   "outputs": [
    {
     "name": "stdout",
     "output_type": "stream",
     "text": [
      "13219.999999999998\n"
     ]
    }
   ],
   "source": [
    "width = 100\n",
    "height = 132.2\n",
    "volume = width * height\n",
    "print(volume)"
   ]
  },
  {
   "cell_type": "markdown",
   "id": "ecaad6fe",
   "metadata": {},
   "source": [
    "Ändern wir nun die Breite `width`, so ergibt sich ein anderer Flächeninhalt, sofern wir diesen erneut berechnen.\n"
   ]
  },
  {
   "cell_type": "code",
   "execution_count": 208,
   "id": "b10c2aab",
   "metadata": {},
   "outputs": [
    {
     "name": "stdout",
     "output_type": "stream",
     "text": [
      "26439.999999999996\n"
     ]
    }
   ],
   "source": [
    "width = 200\n",
    "volume = width * height\n",
    "print(volume)"
   ]
  },
  {
   "cell_type": "markdown",
   "id": "1ebc834c",
   "metadata": {},
   "source": [
    "Beachten Sie, dass wir eine sog. _Gleitkommazahl_ `float` als Ergebnis erhalten. Die Variable besitzt einen anderen _Datentyp_ als z.B. `width`. Mehr dazu später.\n"
   ]
  },
  {
   "cell_type": "markdown",
   "id": "79f4f463",
   "metadata": {},
   "source": [
    "---\n"
   ]
  },
  {
   "cell_type": "markdown",
   "id": "ce67ad23",
   "metadata": {
    "deletable": false,
    "editable": false
   },
   "source": [
    "**_Aufgabe 8_**\n",
    "\n",
    "Bestimmen Sie was die Operation `b**0.5` berechnet.\n"
   ]
  },
  {
   "cell_type": "code",
   "execution_count": 209,
   "id": "bf8db8f9",
   "metadata": {
    "deletable": false,
    "editable": false
   },
   "outputs": [
    {
     "data": {
      "text/plain": [
       "882.0"
      ]
     },
     "execution_count": 209,
     "metadata": {},
     "output_type": "execute_result"
    }
   ],
   "source": [
    "a = 13\n",
    "b = 25\n",
    "c = ((b**0.5 + a) * 7) * 7\n",
    "c"
   ]
  },
  {
   "cell_type": "markdown",
   "id": "8a21028e",
   "metadata": {},
   "source": [
    "---\n",
    "\n",
    "Oftmals machen wir dies um Fehler zu finden.\n",
    "Einer der einfachsten Fehler die sich einschleichen können sind Typos, z.B.:\n"
   ]
  },
  {
   "cell_type": "code",
   "execution_count": 210,
   "id": "3a09a60c",
   "metadata": {},
   "outputs": [
    {
     "name": "stdout",
     "output_type": "stream",
     "text": [
      "882.0\n"
     ]
    }
   ],
   "source": [
    "print(c)"
   ]
  },
  {
   "cell_type": "markdown",
   "id": "636e8a9b",
   "metadata": {},
   "source": [
    "Sobald der `Python`-_Interpreter_ eine Anweidung nicht versteht bzw. nicht ausführen kann, kommt es zu einem Fehler.\n",
    "Diese Fehler sind Hinweise woran es liegen könnte, dass unser Prorgamm abgebrochen wurde.\n",
    "Diese Meldungen mögen manchmal irritierend sein, da der Fehler nicht zwangsläufig dort zu finden ist, wo der Programmablauf endet.\n"
   ]
  },
  {
   "cell_type": "markdown",
   "id": "bbafc057",
   "metadata": {},
   "source": [
    "## 1.5 Jupyter Notebooks (Einschub)\n",
    "\n",
    "_Jupyter Notebooks_ helfen uns beim Lernen der `Python`-Grundlagen, da wir Code interaktiv ausführen können.\n",
    "Sie erhalten ein sofortiges Feedback und können schnell und zyklisch _Code verändern_ und _Code ausführen_.\n",
    "Größere `Python`-Programme schreiben wir üblicherweise in eine simplen Textdatei.\n",
    "\n",
    "Die `Python`-Zellen eines Notebooks bilden ein `Python`-Programm.\n",
    "Dabei spielt die Reihenfolge wie Sie die Zellen ausführen eine Rolle.\n",
    "\n",
    "Blicken Sie auf folgendes Beispiel, bestehend aus 4 Zellen.\n",
    "Nehmen wir nun an, wir werten Zelle 1 dann 4 dann 3 und dann 2 aus.\n",
    "Welchen Wert hat dann die Variable `x`?\n"
   ]
  },
  {
   "cell_type": "code",
   "execution_count": 211,
   "id": "c44be39f",
   "metadata": {},
   "outputs": [],
   "source": [
    "y = -3      # Zelle 1"
   ]
  },
  {
   "cell_type": "code",
   "execution_count": 212,
   "id": "c42907c1",
   "metadata": {},
   "outputs": [],
   "source": [
    "x = z + y   # Zelle 2"
   ]
  },
  {
   "cell_type": "code",
   "execution_count": 213,
   "id": "90739781",
   "metadata": {},
   "outputs": [],
   "source": [
    "z = 5       # Zelle 3"
   ]
  },
  {
   "cell_type": "code",
   "execution_count": 214,
   "id": "44609036",
   "metadata": {},
   "outputs": [],
   "source": [
    "y = 20      # Zelle 4"
   ]
  },
  {
   "cell_type": "markdown",
   "id": "b76f8695",
   "metadata": {},
   "source": [
    "Wir erhalten das gleiche Ergebnis indem wir den Zelleninhalt in dieser Reihenfolge in eine Zelle kopieren:\n"
   ]
  },
  {
   "cell_type": "code",
   "execution_count": 215,
   "id": "892005c8",
   "metadata": {},
   "outputs": [
    {
     "name": "stdout",
     "output_type": "stream",
     "text": [
      "25\n"
     ]
    }
   ],
   "source": [
    "y = -3      # Zelle 1\n",
    "y = 20      # Zelle 4\n",
    "z = 5       # Zelle 3\n",
    "x = z + y   # Zelle 2\n",
    "print(x)"
   ]
  },
  {
   "cell_type": "markdown",
   "id": "326dd62e",
   "metadata": {},
   "source": [
    "Demnach ist `x = 5 + 20` und `y = 20`. Führen wir daraufhin Zelle 1 dananch 2 aus, erhalten wir für `x`: `x = 5 + (-3) = 2`\n"
   ]
  },
  {
   "cell_type": "code",
   "execution_count": 216,
   "id": "087d118a",
   "metadata": {},
   "outputs": [
    {
     "name": "stdout",
     "output_type": "stream",
     "text": [
      "2\n"
     ]
    }
   ],
   "source": [
    "y = -3      # Zelle 1\n",
    "y = 20      # Zelle 4\n",
    "z = 5       # Zelle 3\n",
    "x = z + y   # Zelle 2\n",
    "y = -3      # Zelle 1\n",
    "x = z + y   # Zelle 2\n",
    "print(x)"
   ]
  },
  {
   "cell_type": "markdown",
   "id": "063f46c6",
   "metadata": {},
   "source": [
    "**Füllen Sie Ihr Notebook immer so, sodass es das erwartete Ergebnis liefert wenn es von oben nach unten ausgeführt wird!**\n"
   ]
  },
  {
   "cell_type": "markdown",
   "id": "3c69466a",
   "metadata": {},
   "source": [
    "Es kann passieren, dass Sie Ihr Notebook manuell terminieren müssen, z.B. wenn Sie versehentlich eine sog. Endlosschleife programmiert haben.\n",
    "Die Terminierung hat den gleichen Effekt wie wenn es zu einem Fehler gekommen wäre.\n",
    "Der Code wird bis zur Terminierung ausgeführt.\n"
   ]
  },
  {
   "cell_type": "markdown",
   "id": "3aca50a7",
   "metadata": {},
   "source": [
    "---\n"
   ]
  },
  {
   "cell_type": "markdown",
   "id": "5941f455-3da3-41f3-8a54-b1a1bb72ba77",
   "metadata": {},
   "source": [
    "**_Aufgabe 9_**\n",
    "\n",
    "Werten Sie folgende Zelle aus. Terminieren Sie die Ausführung nach einer kurzen Zeit. Lassen Sie sich die Variable `k` ausgeben. Ersetzen Sie anschließend die Zeile\n",
    "\n",
    "```python\n",
    "while True:\n",
    "```\n",
    "\n",
    "durch\n",
    "\n",
    "```python\n",
    "while k < 10:\n",
    "```\n",
    "\n",
    "Führen Sie die Zelle erneut aus und prüfen Sie den Wert von `k`.\n"
   ]
  },
  {
   "cell_type": "code",
   "execution_count": 217,
   "id": "5bdbd2cb",
   "metadata": {},
   "outputs": [],
   "source": [
    "k = 1\n",
    "while k < 10:\n",
    "    k = k + 1"
   ]
  },
  {
   "cell_type": "code",
   "execution_count": 218,
   "id": "1f41a6cd",
   "metadata": {},
   "outputs": [
    {
     "name": "stdout",
     "output_type": "stream",
     "text": [
      "10\n"
     ]
    }
   ],
   "source": [
    "print(k)"
   ]
  },
  {
   "cell_type": "markdown",
   "id": "0b4e76e2",
   "metadata": {
    "deletable": false,
    "editable": false
   },
   "source": [
    "**_Aufgabe 10_**\n",
    "\n",
    "Wandeln Sie folgende Zellen in eine einzige Zelle um indem Sie deren Zelleninhalt in eine Zelle verschieben, sodass nach der Ausführung `x` den Wert `42` hat.\n"
   ]
  },
  {
   "cell_type": "code",
   "execution_count": 219,
   "id": "849b56bb",
   "metadata": {
    "deletable": false,
    "editable": false
   },
   "outputs": [],
   "source": [
    "x = 0"
   ]
  },
  {
   "cell_type": "code",
   "execution_count": 220,
   "id": "31f7e0a8",
   "metadata": {
    "deletable": false,
    "editable": false
   },
   "outputs": [],
   "source": [
    "y = 2"
   ]
  },
  {
   "cell_type": "code",
   "execution_count": 221,
   "id": "7e53f733",
   "metadata": {
    "deletable": false,
    "editable": false
   },
   "outputs": [],
   "source": [
    "x = x - y * 2"
   ]
  },
  {
   "cell_type": "code",
   "execution_count": 222,
   "id": "73248286",
   "metadata": {
    "deletable": false,
    "editable": false
   },
   "outputs": [],
   "source": [
    "x = x + 6"
   ]
  },
  {
   "cell_type": "code",
   "execution_count": 223,
   "id": "77c8aadc",
   "metadata": {
    "deletable": false,
    "editable": false
   },
   "outputs": [],
   "source": [
    "y = 20"
   ]
  },
  {
   "cell_type": "code",
<<<<<<< HEAD
   "execution_count": 224,
   "id": "e87482cf",
=======
   "execution_count": null,
   "id": "9a512a21",
   "metadata": {
    "tags": []
   },
   "outputs": [],
   "source": [
    "..."
   ]
  },
  {
   "cell_type": "code",
   "execution_count": null,
   "id": "ed56405d",
>>>>>>> 62e14cfcdc8eecf18861aeeb662e9094b5c3e3c0
   "metadata": {
    "deletable": false,
    "editable": false
   },
   "outputs": [],
   "source": [
    "x += y * 2"
   ]
  },
  {
   "cell_type": "code",
   "execution_count": 225,
   "id": "9a512a21",
   "metadata": {
    "tags": []
   },
   "outputs": [
    {
     "data": {
      "text/plain": [
       "(42, 20)"
      ]
     },
     "execution_count": 225,
     "metadata": {},
     "output_type": "execute_result"
    }
   ],
   "source": [
    "(x, y)"
   ]
  },
  {
   "cell_type": "code",
   "execution_count": 226,
   "id": "0af0f7ee",
   "metadata": {
    "deletable": false,
    "editable": false
   },
   "outputs": [
    {
     "data": {
      "text/html": [
       "<p><strong><pre style='display: inline;'>q10</pre></strong> passed! 🚀</p><p><strong><pre style='display: inline;'>q10 - 1</pre> message:</strong> Richtig!</p>"
      ],
      "text/plain": [
       "q10 results: All test cases passed!\n",
       "q10 - 1 message: Richtig!"
      ]
     },
     "execution_count": 226,
     "metadata": {},
     "output_type": "execute_result"
    }
   ],
   "source": [
    "grader.check(\"q10\")"
   ]
  },
  {
   "cell_type": "markdown",
   "id": "fad7890f",
   "metadata": {},
   "source": [
    "---\n"
   ]
  },
  {
   "cell_type": "markdown",
   "id": "945d4ad1",
   "metadata": {},
   "source": [
    "Notebooks sind besonders hilfreich im Bereich der _Datenvisualisierung_, da Graphen (Plots) direkt im Notebook angezeigt werden können.\n",
    "\n",
    "Im Folgenden sehen Sie ein Beispiel eines Plots der Sinusfunktion.\n",
    "Zunächst erzeugen wir ein sog. Array aus $n = 200$ Zahlen die alle zwischen $0$ und $2 \\pi$ liegen.\n",
    "Genauer gesagt erzeugen wir Werte $x_0, x_1, x_2, \\ldots, x_{n-1}$ mit\n",
    "\n",
    "$$x_i = \\frac{2 \\cdot \\pi \\cdot i }{n-1}.$$\n",
    "\n",
    "Dann generieren wir ein zweites Array bestehend aus Werten $y_0, y_1, y_2, \\ldots, y_{n-1}$ mit\n",
    "\n",
    "$$y_i = \\sin(x_i).$$\n",
    "\n",
    "Am Ende Zeichnen wir Linien, die durch die Punkte $(x_0, y_0), (x_1, y_1), \\ldots, (x_{n-1}, y_{n-1})$ gehen.\n",
    "\n",
    "**Hinweis**: Für die Ausführung des Code benötigen Sie die Pakete `numpy` und `matplotlib`. Diese können Sie auf Ihrem System mit\n",
    "\n",
    "```\n",
    "conda install numpy\n",
    "conda install matplotlib\n",
    "```\n",
    "\n",
    "oder\n",
    "\n",
    "```\n",
    "pip install numpy\n",
    "pip install matplotlib\n",
    "```\n",
    "\n",
    "installieren.\n"
   ]
  },
  {
   "cell_type": "code",
   "execution_count": 227,
   "id": "755cb057",
   "metadata": {},
   "outputs": [],
   "source": [
    "import numpy as np\n",
    "import matplotlib.pyplot as plt"
   ]
  },
  {
   "cell_type": "code",
   "execution_count": 228,
   "id": "853021cb",
   "metadata": {},
   "outputs": [
    {
     "data": {
      "text/plain": [
       "[<matplotlib.lines.Line2D at 0x12e2f6d10>]"
      ]
     },
     "execution_count": 228,
     "metadata": {},
     "output_type": "execute_result"
    },
    {
     "data": {
      "image/png": "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",
      "text/plain": [
       "<Figure size 640x480 with 1 Axes>"
      ]
     },
     "metadata": {},
     "output_type": "display_data"
    }
   ],
   "source": [
    "n = 200\n",
    "X = np.linspace(0, 2*np.pi, n)\n",
    "Y = np.tan(X)\n",
    "plt.plot(X, Y)"
   ]
  },
  {
   "cell_type": "markdown",
   "id": "fce27562",
   "metadata": {},
   "source": [
    "---\n"
   ]
  },
  {
   "cell_type": "markdown",
   "id": "f361f9aa-c1dc-435f-99e7-7df80072bda9",
   "metadata": {},
   "source": [
    "**_Aufgabe 11_**\n",
    "\n",
    "Spielen Sie mit dem Code herum. Verändern Sie z.B. den Wert der Variablen `n` oder Plotten Sie anstatt des Sinus den Kosinus.\n"
   ]
  },
  {
   "cell_type": "markdown",
   "id": "5cc19c9d-1244-4eda-8fef-8d7f4cd2a331",
   "metadata": {},
   "source": [
    "## 2. Repräsentation und Interpretation\n"
   ]
  },
  {
   "cell_type": "markdown",
   "id": "9969124e-441e-4080-a2a7-1eb6f4cbaffe",
   "metadata": {
    "deletable": false,
    "editable": false
   },
   "source": [
    "**_Aufgabe 12_**\n",
    "\n",
    "In `Python` gibt es sogenannte Listen. Folgender Code erzeugt eine Liste, welche die Zahlen 1 bis 12 enthält (mehr dazu später).\n"
   ]
  },
  {
   "cell_type": "code",
   "execution_count": 229,
   "id": "2f9c439c-ec9d-4918-bc4a-fb432bc92798",
   "metadata": {
    "deletable": false,
    "editable": false
   },
   "outputs": [
    {
     "data": {
      "text/plain": [
       "[1, 2, 3, 4, 5, 6, 7, 8, 9, 10, 11, 12]"
      ]
     },
     "execution_count": 229,
     "metadata": {},
     "output_type": "execute_result"
    }
   ],
   "source": [
    "numbers = [1, 2, 3, 4, 5, 6, 7, 8, 9, 10, 11, 12]\n",
    "numbers"
   ]
  },
  {
   "cell_type": "markdown",
   "id": "eb6102ae-7417-4dab-8e54-9a25070e368f",
   "metadata": {
    "deletable": false,
    "editable": false
   },
   "source": [
    "Wie könnten wir damit ein Kartenset repräsentieren?\n"
   ]
  },
  {
   "cell_type": "markdown",
   "id": "680a3bcb-0743-4779-916d-db5d18b0138f",
   "metadata": {
    "deletable": false,
    "editable": false
   },
   "source": [
    "**_Aufgabe 13_**\n",
    "\n",
    "Wir konstruieren ein neues (unäres) Dot-Zahlensystem, was aus positiven ganzen Zahlen besteht. Jede Zahl wird aus einer Folge des Zeichens `'.'` gebildet.\n",
    "\n",
    "- 5 wird beispielsweise durch `.....`,\n",
    "- 3 durch `...` und\n",
    "- 0 durch `''`\n",
    "\n",
    "repräsentiert. In anderen Worten, eine Zahl $n$ wird durch $n$-Punkte (Dots) repräsentiert. Folgende Funktionen helfen uns dabei mit unserem Zahlensystem zu rechnen. Sie bilden einen Kontext.\n"
   ]
  },
  {
   "cell_type": "code",
   "execution_count": 230,
   "id": "0afd3081-d151-406b-93cf-9ae1f03748a7",
   "metadata": {
    "deletable": false,
    "editable": false
   },
   "outputs": [],
   "source": [
    "def add(a, b):\n",
    "    return a+b\n",
    "\n",
    "def sub(a, b):\n",
    "    return a[0:max(0, len(a)-len(b))]\n",
    "\n",
    "def div(a, b):\n",
    "    return to_dots(int(len(a) / len(b)))\n",
    "\n",
    "def mul(a, b):\n",
    "    return a * len(b)\n",
    "\n",
    "def to_dots(number):\n",
    "    return '.'*number\n",
    "\n",
    "def to_number(dots):\n",
    "    return len(dots)"
   ]
  },
  {
   "cell_type": "markdown",
   "id": "0363f4e4-5b75-4da7-a82f-802c741466c8",
   "metadata": {
    "deletable": false,
    "editable": false
   },
   "source": [
    "Rufen Sie die Funktionen auf und finden Sie heraus was die einzelnen Funktionen im Kontext unseres Zahlensystems machen.\n",
    "\n",
    "Beispielsweise können Sie die Funktion `add` (Addieren) durch folgenden Ausdruch aufrufen:\n"
   ]
  },
  {
   "cell_type": "code",
   "execution_count": 231,
   "id": "e8393c7d-c267-415b-8813-d7294d601f57",
   "metadata": {
    "deletable": false,
    "editable": false
   },
   "outputs": [
    {
     "data": {
      "text/plain": [
       "'.....'"
      ]
     },
     "execution_count": 231,
     "metadata": {},
     "output_type": "execute_result"
    }
   ],
   "source": [
    "add('..', '...')"
   ]
  },
  {
   "cell_type": "markdown",
   "id": "09e90ad6-7702-44e4-a2f6-6f81637dd927",
   "metadata": {
    "deletable": false,
    "editable": false
   },
   "source": [
    "**_Aufgabe 14_**\n",
    "\n",
    "Berechnen Sie `dots = ((5 + 8 - 4 * 2) + 1) / 3`, verwenden Sie dabei jedoch nur die Funktionen von oben und das Zeichen `'.'`. `dots` soll aus `'.'` bestehen.\n"
   ]
  },
  {
   "cell_type": "code",
   "execution_count": 232,
   "id": "cc4dca2b-6d06-46a7-b4e8-e05304866410",
   "metadata": {
    "tags": []
   },
   "outputs": [],
   "source": [
    "dots = div(add(sub(add(to_dots(5), to_dots(8)), mul(to_dots(4), to_dots(2))), '.'),'...')"
   ]
  },
  {
   "cell_type": "code",
<<<<<<< HEAD
   "execution_count": 233,
   "id": "d701361c",
=======
   "execution_count": null,
   "id": "ebb3afdf",
>>>>>>> 62e14cfcdc8eecf18861aeeb662e9094b5c3e3c0
   "metadata": {
    "deletable": false,
    "editable": false
   },
   "outputs": [
    {
     "data": {
      "text/html": [
       "<p><strong><pre style='display: inline;'>q14</pre></strong> passed! 🙌</p><p><strong><pre style='display: inline;'>q14 - 1</pre> message:</strong> Exzellent! Das war keine so einfache Aufgabe!</p>"
      ],
      "text/plain": [
       "q14 results: All test cases passed!\n",
       "q14 - 1 message: Exzellent! Das war keine so einfache Aufgabe!"
      ]
     },
     "execution_count": 233,
     "metadata": {},
     "output_type": "execute_result"
    }
   ],
   "source": [
    "grader.check(\"q14\")"
   ]
  },
  {
   "cell_type": "markdown",
   "id": "81a95a24-dff6-47ec-8e14-65f7b7c64f63",
   "metadata": {
    "deletable": false,
    "editable": false
   },
   "source": [
    "**_Aufgabe 15_**\n",
    "\n",
    "Warum glauben Sie ist dieses Dot-System nicht sonderlich praktikabel?\n"
   ]
  },
  {
   "cell_type": "markdown",
<<<<<<< HEAD
   "id": "acb0782a",
   "metadata": {},
   "source": [
    "Weil der Wert einer Zahl durch die Anzahl der Dots bestimmt wird, dadurch entstehen unübersichtliche Zahlen bei denen man den genauen Wert nur duchrs zählen der Dots erkennen kann. Für kleine Zahlen ist dies nicht so schlimm, aber bei großen Zahlen können schnell Fehler entstehen. Bsp:\n",
    "\n",
    "| Number | Dots                                                                                                 |\n",
    "| ------ | ---------------------------------------------------------------------------------------------------- |\n",
    "| 1      | .                                                                                                    |\n",
    "| 10     | ..........                                                                                           |\n",
    "| 100    | .................................................................................................... |\n",
    "\n",
    "Außerdem wird das Dot-System nicht von den meisten Programmiersprachen unterstützt, dadurch entstehen sehr lange Befehlsaufrufe um sogar nur einfache Rechenvorgänge auszuführen (Bsp. siehe Aufgabe 14).\n"
   ]
  },
  {
   "cell_type": "markdown",
   "id": "c3af2f78",
=======
   "id": "17df9b2b",
>>>>>>> 62e14cfcdc8eecf18861aeeb662e9094b5c3e3c0
   "metadata": {
    "deletable": false,
    "editable": false
   },
   "source": [
    "---\n",
    "\n",
    "**Hinweis**: Durch Auswertung der folgenden Zelle werden alle Tests ausgeführt.\n",
    "Sie sollten das Notebook zuvor bis hier hin von oben nach unten ausgewertet haben.\n"
   ]
  },
  {
   "cell_type": "code",
<<<<<<< HEAD
   "execution_count": 234,
   "id": "d7ddead5",
=======
   "execution_count": null,
   "id": "8b1691be",
>>>>>>> 62e14cfcdc8eecf18861aeeb662e9094b5c3e3c0
   "metadata": {
    "deletable": false,
    "editable": false
   },
   "outputs": [
    {
     "data": {
      "text/plain": [
       "q1 results: All test cases passed!\n",
       "q1 - 1 message: Richtig!\n",
       "\n",
       "q10 results: All test cases passed!\n",
       "q10 - 1 message: Richtig!\n",
       "\n",
       "q14 results: All test cases passed!\n",
       "q14 - 1 message: Exzellent! Das war keine so einfache Aufgabe!\n",
       "\n",
       "q5 results: All test cases passed!\n",
       "q5 - 1 message: Sie haben die Aufgabe korrekt gelöst!\n",
       "\n",
       "q6 results:\n",
       "    q6 - 1 result:\n",
       "        ❌ Test case failed\n",
       "        Error at line 12 in test q6:\n",
       "              assert x == expected, \"Das stimmt so noch nicht.\"\n",
       "        AssertionError: Das stimmt so noch nicht.\n",
       "\n",
       "q7 results: All test cases passed!\n",
       "q7 - 1 message: Richtig!"
      ]
     },
     "execution_count": 234,
     "metadata": {},
     "output_type": "execute_result"
    }
   ],
   "source": [
    "grader.check_all()"
   ]
  }
 ],
 "metadata": {
  "kernelspec": {
   "display_name": "Python 3 (ipykernel)",
   "language": "python",
   "name": "python3"
  },
  "language_info": {
   "codemirror_mode": {
    "name": "ipython",
    "version": 3
   },
   "file_extension": ".py",
   "mimetype": "text/x-python",
   "name": "python",
   "nbconvert_exporter": "python",
   "pygments_lexer": "ipython3",
   "version": "3.11.6"
  },
  "otter": {
   "OK_FORMAT": false,
   "assignment_name": "03_variablen_und_operatoren",
   "tests": {
    "q1": "from otter.test_files import test_case\n\nOK_FORMAT = False\n\nname = \"q1\"\npoints = None\n\n@test_case(points=None, hidden=False, \n    success_message=\"Richtig!\")\ndef test_var_number(number):\n    expected = 42\n    assert number == expected, \"Die Variable number muss den Wert 42 enthalten.\"\n    \n",
    "q10": "from otter.test_files import test_case\n\nOK_FORMAT = False\n\nname = \"q10\"\npoints = None\n\n@test_case(points=None, hidden=False, \n    success_message=\"Richtig!\")\ndef test_var_x(x):\n    expected = 42\n    assert x == expected, \"Die Variable x hat nicht den korrekten Wert.\"\n    \n",
    "q14": "from otter.test_files import test_case\n\nOK_FORMAT = False\n\nname = \"q14\"\npoints = None\n\n@test_case(points=None, hidden=False, \n    success_message=\"Exzellent! Das war keine so einfache Aufgabe!\")\ndef test_var_dots(dots):\n    expected = '..'\n    assert len(dots) == dots.count('.'), \"dots ist nicht im Dot-Format!\"\n    assert len(dots) <= len(expected), \"Zu viele dots!\"\n    assert len(dots) >= len(expected), \"Zu wenig dots!\"\n    assert dots == expected, \"Die Variable dots hat nicht den korrekten Wert!\"\n    \n",
    "q5": "from otter.test_files import test_case\n\nOK_FORMAT = False\n\nname = \"q5\"\npoints = None\n\n@test_case(points=None, hidden=False, \n    success_message=\"Sie haben die Aufgabe korrekt gelöst!\")\ndef test_var_number(cycles, rest):\n    cycles_expected = 8\n    rest_rexpected = 99\n    assert cycles == cycles_expected, \"Die Anzahl an ganzen Umdrehungen stimmt so noch nicht.\"\n    assert rest == rest_rexpected, \"Der Rest zur vollen Umdrehung stimmt so noch nicht.\"\n    \n",
    "q6": "from otter.test_files import test_case\n\nOK_FORMAT = False\n\nname = \"q6\"\npoints = None\n\n@test_case(points=None, hidden=False, \n    success_message=\"Richtig!\")\ndef test_var_number(x):\n    expected = -13_481_272\n    assert x == expected, \"Das stimmt so noch nicht.\"\n    \n",
    "q7": "from otter.test_files import test_case\n\nOK_FORMAT = False\n\nname = \"q7\"\npoints = None\n\n@test_case(points=None, hidden=False, \n    success_message=\"Richtig!\")\ndef test_var_total_secs(total_secs):\n    expected = 220752000\n    assert total_secs == expected, \"Die Variable total_secs hat nicht den korrekten Wert.\"\n    \n"
   }
  },
  "vscode": {
   "interpreter": {
    "hash": "aee8b7b246df8f9039afb4144a1f6fd8d2ca17a180786b69acc140d282b71a49"
   }
  }
 },
 "nbformat": 4,
 "nbformat_minor": 5
}
