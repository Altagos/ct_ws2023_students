{
 "cells": [
  {
   "cell_type": "code",
   "execution_count": 19,
   "metadata": {
    "deletable": false,
    "editable": false
   },
   "outputs": [],
   "source": [
    "# Initialize Otter\n",
    "import otter\n",
    "grader = otter.Notebook(\"06_abgabe1.ipynb\")"
   ]
  },
  {
   "cell_type": "markdown",
   "metadata": {},
   "source": [
    "# Computational Thinking WS2023/24\n",
    "\n",
    "**Autoren:**\n",
    "\n",
    "- Prof. Benedikt Dietrich\n",
    "- Prof. Martin Hobelsberger\n",
    "- Prof. Martin Orehek\n"
   ]
  },
  {
   "cell_type": "markdown",
   "metadata": {},
   "source": [
    "## Divide and Conquer\n",
    "\n",
    "Ein in der Informatik wichtiges Prinzip ist \"_Divide & Conquer_\", d.h. teile und herrsche.\n",
    "Gemeint ist die erfolgreiche Lösung einer komplexen Problemstellung durch die Aufteilung in mehrere kleine, leicht zu lösende Teilprobleme.\n",
    "Die Herausforderung liegt hierbei in der Identifikation der einzelnen Teilprobleme.\n",
    "Dieses Prinzip wollen wir in der Aufgabe _Herr der Rauten_ anwenden.\n",
    "Die einzelnen Teilprobleme sind hier noch vorgegeben.\n",
    "In den weiteren Praktikumsaufgaben obliegt die Anwendung des _Divide & Conquer_ Prinzips immer stärker Ihnen.\n"
   ]
  },
  {
   "cell_type": "markdown",
   "metadata": {},
   "source": [
    "## 1. Herr der Rauten\n",
    "\n",
    "Im Folgenden sollen Sie ein Programm erstellen, das eine Raute in einer vom Nutzer vorgegebener Größe zeichnet.\n",
    "Die Ausgabe des Programms soll wie folgt aussehen:\n",
    "\n",
    "```text\n",
    "Bitte geben Sie die gewünschte Rautengröße (3-10) ein: 1\n",
    "\n",
    "Ihre Raute:\n",
    "\n",
    "    **\n",
    "   *  *\n",
    "  *    *\n",
    " *      *\n",
    "*        *\n",
    "*        *\n",
    " *      *\n",
    "  *    *\n",
    "   *  *\n",
    "    **\n",
    "```\n",
    "\n",
    "Hierzu werden Sie Schritt für Schritt den notwendigen Algorithmus nach dem Prinzip _Divide & Conquer_ herleiten.\n",
    "\n",
    "Für unsere Raute bedeutet dies konkret, dass wir nicht versuchen sofort die komplette Raute auszugeben, sondern zunächst einmal nur die notwendigen Leerzeichen auszugeben und dann die obere Hälfte der Raute generieren. Von dieser Lösung aus erweitern wir dann unser Programm, um auch die untere Hälfte der Raute auszugeben.\n"
   ]
  },
  {
   "cell_type": "markdown",
   "metadata": {
    "deletable": false,
    "editable": false
   },
   "source": [
    "### 1.1 Nutzereingabe abfragen\n",
    "\n",
    "Schreiben Sie eine Funktion `getRautenGroesse()`, welche den Nutzer um die Eingabe der Rautengröße bittet. Der eingegebene Wert soll zwischen 3 und einschließlich 10 liegen. Ist dies nicht der Fall, soll die Funktion den Nutzer darauf hinweisen und erneut um eine Eingabe bitten bis ein Wert zwischen 3 und 10 eingegeben wurde.\n",
    "\n",
    "Eine Beispielausgabe der Funktion könnte so aussehen:\n",
    "\n",
    "```text\n",
    "    Bitte geben Sie die gewünschte Rautengröße (3-10) ein: 1\n",
    "    Fehler: Der eingegebene Wert muss zwischen 3 und einschließlich 10 liegen.\n",
    "    Bitte geben Sie die gewünschte Rautengröße (3-10) ein: 100\n",
    "    Fehler: Der eingegebene Wert muss zwischen 3 und einschließlich 10 liegen.\n",
    "    Bitte geben Sie die gewünschte Rautengröße (3-10) ein: 4\n",
    "    Sie haben eine Rautengröße von 4 gewählt.\n",
    "```\n"
   ]
  },
  {
   "cell_type": "code",
   "execution_count": 44,
   "metadata": {
    "tags": []
   },
   "outputs": [
    {
     "name": "stdout",
     "output_type": "stream",
     "text": [
      "Fehler: Der eingegebene Wert muss zwischen 3 und einschließlich 10 liegen.\n",
      "Fehler: Der eingegebene Wert muss zwischen 3 und einschließlich 10 liegen.\n",
      "Fehler: Der eingegebene Wert muss zwischen 3 und einschließlich 10 liegen.\n"
     ]
    },
    {
     "data": {
      "text/plain": [
       "0"
      ]
     },
     "execution_count": 44,
     "metadata": {},
     "output_type": "execute_result"
    }
   ],
   "source": [
    "def getRautenGroesse():\n",
    "    for _ in range(3):\n",
    "        try:\n",
    "            rauten_groesse = int(input(\"Bitte geben Sie die gewünschte Rautengrösse (3-10) ein: \"))\n",
    "        except:\n",
    "            print(\"Fehler: Bitte geben Sie nur Ziffern ein.\")\n",
    "            continue\n",
    "\n",
    "        if rauten_groesse >= 3 and rauten_groesse <= 10:\n",
    "            print(f\"Sie haben die Rautengröße von {rauten_groesse} gewählt.\")\n",
    "            return rauten_groesse\n",
    "        else:\n",
    "            print(\"Fehler: Der eingegebene Wert muss zwischen 3 und einschließlich 10 liegen.\")\n",
    "\n",
    "    return 0\n",
    "\n",
    "getRautenGroesse()\n"
   ]
  },
  {
   "cell_type": "markdown",
   "metadata": {},
   "source": [
    "---\n"
   ]
  },
  {
   "cell_type": "markdown",
   "metadata": {
    "deletable": false,
    "editable": false
   },
   "source": [
    "### 1.2 Analyse des Problems\n",
    "\n",
    "Eine Raute besteht aus einer bestimmten Anzahl an Zeilen. Jede Zeile besteht aus einer bestimmten Menge an führenden Leerzeichen, einem Stern, einer bestimmten Anzahl an mittleren Leerzeichen, einem weiteren Stern und einem Zeilenumbruch.\n",
    "\n",
    "Zeichnen Sie den oberen (!) Teil einer Raute einer beliebigen Größe zwischen 3 und 10 auf ein Karo-Papier. Füllen Sie dann für Ihre Raute die folgende Tabelle aus:\n",
    "\n",
    "Rautengröße: 4\n",
    "| Zeile | Führende Leerzeichen | Mittlere Leerzeichen |\n",
    "| ----- | -------------------- | -------------------- |\n",
    "| 1 | 3 | 0 |\n",
    "| 2 | 2 | 2 |\n",
    "| 3 | 1 | 4 |\n",
    "| 4 | 0 | 6 |\n",
    "\n",
    "Leiten Sie nun aus der Tabelle ab, wie die Anzahl an Zeilen, die Anzahl an führenden Leerzeichen und die Anzahl an mittleren Leerzeichen von der Rautengröße abhängt.\n",
    "\n",
    "**Wichtig:** Fokussieren Sie hier erst mal nur auf die obere Hälfte der Raute!\n"
   ]
  },
  {
   "cell_type": "markdown",
   "metadata": {},
   "source": [
    "---\n"
   ]
  },
  {
   "cell_type": "markdown",
   "metadata": {
    "deletable": false,
    "editable": false
   },
   "source": [
    "### 1.3 Leerzeichen ausgeben\n",
    "\n",
    "Schreiben Sie zunächst eine Funktion `printSpaces()`, welcher die gewünschte Anzahl an auszugebenden Leerzeichen übergeben wird. Die Funktion soll dann die entsprechende Zahl an Leerzeichen ausgeben, aber ohne Zeilenumbruch!\n",
    "\n",
    "_Hinweis:_ Um nur ein Leerzeichen ohne Zeilenumbruch auszugeben können Sie folgende Syntax verwenden:\n",
    "\n",
    "```python\n",
    "    print(\" \", end=\"\")\n",
    "```\n"
   ]
  },
  {
   "cell_type": "code",
   "execution_count": 21,
   "metadata": {
    "tags": []
   },
   "outputs": [],
   "source": [
    "def printSpaces(n):\n",
    "    print(\" \" * n, end=\"\")"
   ]
  },
  {
   "cell_type": "markdown",
   "metadata": {},
   "source": [
    "---\n"
   ]
  },
  {
   "cell_type": "markdown",
   "metadata": {
    "deletable": false,
    "editable": false
   },
   "source": [
    "### 1.4 Den oberen Teil der Raute zeichnen\n",
    "\n",
    "Schreiben Sie nun eine Funktion `printRauteObereHaelfte()`, welcher die gewünschte Größe der Raute übergeben wird. Die Funktion soll dann in einer `for`-Schleife Zeile für Zeile der Raute ausgeben. Berechnen Sie hierfür in der `for`-Schleife in Abhängigkeit der aktuellen Zeilenzahl die Variablen `fuehrendeLeerzeichen` und `mittlereLeerzeichen`. Nutzen Sie dann die Funktion `printLeerzeichen()` und `print(*)` um die gewünschten Leerzeichen und Sterne auszugeben.\n",
    "\n",
    "Für eine Raute der Größe 5 sollte das z.B. wie folgt aussehen:\n",
    "\n",
    "```text\n",
    "    **\n",
    "   *  *\n",
    "  *    *\n",
    " *      *\n",
    "*        *\n",
    "```\n"
   ]
  },
  {
   "cell_type": "code",
   "execution_count": 22,
   "metadata": {
    "tags": []
   },
   "outputs": [],
   "source": [
    "def printRauteObereHaelfte(n):\n",
    "    for i in range(n):\n",
    "        printSpaces(n - i - 1)\n",
    "        print(\"*\", end=\"\")\n",
    "        printSpaces(i * 2)\n",
    "        print(\"*\")"
   ]
  },
  {
   "cell_type": "markdown",
   "metadata": {},
   "source": [
    "---\n"
   ]
  },
  {
   "cell_type": "markdown",
   "metadata": {
    "deletable": false,
    "editable": false
   },
   "source": [
    "### 1.5 Der untere Teil der Raute\n",
    "\n",
    "Führen Sie nun die gleichen Schritte wie oben für den unteren Teil der Raute durch. Schreiben Sie analog zur Funktion `printRauteObereHaelfte()` eine Funktion `printRauteUntereHaelfte()`, welche die untere Hälfte der Raute ausgibt.\n"
   ]
  },
  {
   "cell_type": "code",
   "execution_count": 23,
   "metadata": {
    "tags": []
   },
   "outputs": [],
   "source": [
    "def printRauteUntereHaelfte(n):\n",
    "    for i in range(n):\n",
    "        printSpaces(i)\n",
    "        print(\"*\", end=\"\")\n",
    "        printSpaces(2*n - 2*i - 2)\n",
    "        print(\"*\")"
   ]
  },
  {
   "cell_type": "markdown",
   "metadata": {},
   "source": [
    "---\n"
   ]
  },
  {
   "cell_type": "markdown",
   "metadata": {
    "deletable": false,
    "editable": false
   },
   "source": [
    "### 1.6 Raute ausgeben\n",
    "\n",
    "Schreiben Sie nun noch eine Funktion `printRaute()`, welcher die gewünschte Größe der Raute übergeben wird und welche dann beide Hälften unter Verwendung der oben geschriebenen Funktionen ausgibt.\n"
   ]
  },
  {
   "cell_type": "code",
   "execution_count": 24,
   "metadata": {
    "tags": []
   },
   "outputs": [],
   "source": [
    "def printRaute(n):\n",
    "    printRauteObereHaelfte(n)\n",
    "    printRauteUntereHaelfte(n)\n",
    "\n",
    "# printRaute(5)"
   ]
  },
  {
   "cell_type": "markdown",
   "metadata": {},
   "source": [
    "---\n"
   ]
  },
  {
   "cell_type": "markdown",
   "metadata": {
    "deletable": false,
    "editable": false
   },
   "source": [
    "### 1.7 Rautendrucker\n",
    "\n",
    "Schreiben Sie nun noch ein Programm, welches die Funktion `getRautenGroesse()` nutzt, um den Nutzer nach der gewünschten Rautengröße zu fragen und rufen Sie dann `printRaute()` auf, um die Raute der gewünschten Größe aufzurufen.\n"
   ]
  },
  {
   "cell_type": "code",
   "execution_count": 25,
   "metadata": {
    "tags": []
   },
   "outputs": [
    {
     "name": "stdout",
     "output_type": "stream",
     "text": [
      "Sie haben die Rautengröße von 5 gewählt.\n",
      "    **\n",
      "   *  *\n",
      "  *    *\n",
      " *      *\n",
      "*        *\n",
      "*        *\n",
      " *      *\n",
      "  *    *\n",
      "   *  *\n",
      "    **\n"
     ]
    }
   ],
   "source": [
    "rauten_groesse = getRautenGroesse()\n",
    "printRaute(rauten_groesse)"
   ]
  },
  {
   "cell_type": "markdown",
   "metadata": {},
   "source": [
    "---\n"
   ]
  },
  {
   "cell_type": "markdown",
   "metadata": {
    "deletable": false,
    "editable": false
   },
   "source": [
    "### 1.8 Rautengenerator\n",
    "\n",
    "Schreiben Sie nun noch eine Funktion namens `rautenGenerator()`, welche alle Rauten der Größe 3 bis 10 nacheinander ausgibt.\n"
   ]
  },
  {
   "cell_type": "code",
   "execution_count": 26,
   "metadata": {
    "tags": []
   },
   "outputs": [],
   "source": [
    "def rautenGenerator():\n",
    "    for n in range(3, 11):\n",
    "        printRaute(n)\n",
    "\n",
    "# rautenGenerator()"
   ]
  },
  {
   "cell_type": "markdown",
   "metadata": {},
   "source": [
    "---\n"
   ]
  },
  {
   "cell_type": "markdown",
   "metadata": {},
   "source": [
    "## 2. Fehlersuche\n",
    "\n",
    "In den folgenden kleineren Funktionen haben ein, oder mehrere Fehler versteckt. Schreiben Sie Code, um die Funktionen zu testen und verwenden Sie den Debugger, um die Fehler zu finden und zu korrigieren.\n"
   ]
  },
  {
   "cell_type": "markdown",
   "metadata": {
    "deletable": false,
    "editable": false
   },
   "source": [
    "### 2.1 Primzahl oder nicht?\n"
   ]
  },
  {
   "cell_type": "code",
   "execution_count": 27,
   "metadata": {
    "deletable": false,
    "editable": false
   },
   "outputs": [],
   "source": [
    "# Liefert True zurück, wenn number eine Primzahl ist.\n",
    "#\n",
    "# Alter Code:\n",
    "def ist_primzahl(number):\n",
    "    for i in range(1, number):\n",
    "        if number % i == 0:\n",
    "            return True\n",
    "    return False"
   ]
  },
  {
   "cell_type": "code",
   "execution_count": 28,
   "metadata": {
    "tags": []
   },
   "outputs": [],
   "source": [
    "# Notieren Sie hier, was Sie geändert haben.\n",
    "\n",
    "# Startwert ist 1, weil 1 die erste von der Funktion geprüfte Zahl ist, für alles unter 1 wird\n",
    "# immer False zurückgegeben.\n",
    "\n",
    "# -> ist_primzahl() gibt auch für z.B. 10 True aus, obwohl 10 keine Primzahl ist.\n",
    "#    ist_primzahl() bricht ab und gibt True zurück, sobal number durch irgendeine Zahl teilbar ist,\n",
    "#    egal ob number eine Primzahl ist oder nicht. Die Funktion überprüft nur ob number überhaupt\n",
    "#    geteilt werden kann.\n",
    "\n",
    "def ist_primzahl(number):\n",
    "    for i in range(1, number + 1):\n",
    "        if number % i == 0 and not (i == number or i == 1):\n",
    "            return False\n",
    "\n",
    "    return True\n",
    "\n",
    "# for i in range(1, 100):\n",
    "#     print(f\"{i}: {ist_primzahl(i)}\")\n"
   ]
  },
  {
   "cell_type": "markdown",
   "metadata": {
    "deletable": false,
    "editable": false
   },
   "source": [
    "### 2.2 Fakultät einer Zahl\n"
   ]
  },
  {
   "cell_type": "code",
   "execution_count": 29,
   "metadata": {
    "deletable": false,
    "editable": false
   },
   "outputs": [],
   "source": [
    "# Berechnet n! = n * (n - 1) * ... * 2 * 1\n",
    "def factorial(n):\n",
    "    result = 1\n",
    "    while n >= 0: # Falsche Bedingung, Verbesserung: n >= 1; ansonten wird alles 0\n",
    "        result *= n\n",
    "        n -= 1\n",
    "    return result\n",
    "    \n",
    "\n",
    "# print(factorial(1)) # 1! = 1 , laut originaler Funktion 1! = 0\n",
    "# print(factorial(2)) # 2! = 1 * 2 = 2 , laut originaler Funktion 2! = 0\n",
    "# print(factorial(3)) # 3! = 1 * 2 * 3 = 6 , laut originaler Funktion 3! = 0\n",
    "# print(factorial(4)) # 4! = 1 * 2 * 3 * 4 = 24 , laut originaler Funktion 4! = 0\n",
    "    "
   ]
  },
  {
   "cell_type": "code",
   "execution_count": 30,
   "metadata": {
    "tags": []
   },
   "outputs": [],
   "source": [
    "# Notieren Sie hier, was Sie geändert haben.\n",
    "# alles, ist jetzt rekursiv, kürzerer Code und meiner Meinung nach besser zu lesen und verstehen\n",
    "# (wenn man weiß, was Rekursion ist).\n",
    "# Man könnte auch einfach die Bedingung der while-Schleife auf n >= 1 ändern\n",
    "\n",
    "# Berechnet n! = n * (n - 1) * ... * 2 * 1\n",
    "def factorial(n):\n",
    "    if n > 1:\n",
    "        return n * factorial(n - 1)\n",
    "    elif n == 1:\n",
    "        return 1"
   ]
  },
  {
   "cell_type": "code",
   "execution_count": 36,
   "metadata": {
    "deletable": false,
    "editable": false
   },
   "outputs": [
    {
     "name": "stdout",
     "output_type": "stream",
     "text": [
      "* * * * * * \n",
      "* * * * * * * \n",
      "* * * * * * * * \n",
      "* * * * * * * * * \n",
      "* * * * * * * * * * \n"
     ]
    }
   ],
   "source": [
    "# Soll z.B. für rows = 5 folgendes ausgeben:\n",
    "#\n",
    "# * * * * * \n",
    "# * * * * \n",
    "# * * * \n",
    "# * * \n",
    "# * \n",
    "def print_pattern(rows):\n",
    "    for i in range(rows):\n",
    "        for j in range(rows + i + 1):\n",
    "            print(\"*\", end=\" \")\n",
    "        print()"
   ]
  },
  {
   "cell_type": "code",
   "execution_count": 37,
   "metadata": {
    "tags": []
   },
   "outputs": [
    {
     "name": "stdout",
     "output_type": "stream",
     "text": [
      "* * * * * \n",
      "* * * * \n",
      "* * * \n",
      "* * \n",
      "* \n"
     ]
    }
   ],
   "source": [
    "# Notieren Sie hier, was Sie geändert haben.\n",
    "# Die Anzahl der Ausführungen der zweiten for-Schleife wurde von `rows + i + 1` auf `rows - i` geändert,\n",
    "# davor ist die Anzahl der Ausfürhungen der zweiten for-Schleife für jede Ausführung der ersten größer\n",
    "# geweroden, anstelle kleiner zu werden.\n",
    "\n",
    "def print_pattern(rows):\n",
    "    for i in range(rows):\n",
    "        for j in range(rows - i):\n",
    "            print(\"*\", end=\" \")\n",
    "        print()\n",
    "        \n",
    "print_pattern(5)"
   ]
  },
  {
   "cell_type": "markdown",
   "metadata": {},
   "source": [
    "---\n"
   ]
  },
  {
   "cell_type": "markdown",
   "metadata": {
    "deletable": false,
    "editable": false
   },
   "source": [
    "### 3. Alphabet - Hoch und runter\n",
    "\n",
    "Schreiben Sie eine Funktion, welche die ersten `n` Buchstaben des Alphabets ausgibt, wobei `n` der Übergabeparamter der Funktion ist. Ist `n` größer als die Anzahl an Buchstaben im Alphabet, soll die Funktion alle Buchstaben von a bis z ausgeben und dann das Alphabet rückwärts ausgeben, bis insgesamt `n` Buchstaben ausgegeben wurden. Sind noch immer auszugebende Buchstaben übrig, wenn man bei `a` ankommt, soll die Ausgaberichtung wieder umgekehrt werden. Das soll so lange wiederholt werden, bis `n` Buchstaben ausgegeben wurden.\n",
    "\n",
    "Folgende Beispiele zeigen Ausgaben einer solchen Funktion:\n",
    "\n",
    "```text\n",
    "    print_alphabet_up_and_down(10)\n",
    "    abcdefghij\n",
    "```\n",
    "\n",
    "```text\n",
    "    print_alphabet_up_and_down(28)\n",
    "    abcdefghijklmnopqrstuvwxyzyx\n",
    "```\n",
    "\n",
    "```text\n",
    "    print_alphabet_up_and_down(60)\n",
    "    abcdefghijklmnopqrstuvwxyzyxwvutsrqponmlkjihgfedcbabcdefghij\n",
    "```\n"
   ]
  },
  {
   "cell_type": "markdown",
   "metadata": {
    "deletable": false,
    "editable": false
   },
   "source": [
    "_Hilfestellung:_\n",
    "\n",
    "Um einen Buchstaben als Zahl zu interpretieren, können Sie folgende Funktion verwenden:\n",
    "\n",
    "```python\n",
    "ord(\"a\") # liefert 97 zurück\n",
    "```\n",
    "\n",
    "Um eine Zahl als ASCII-Code zu interpretieren, können Sie folgenden Befehl verwenden:\n",
    "\n",
    "```python\n",
    "chr(100) # liefert \"d\" zurück\n",
    "```\n",
    "\n",
    "Mit Hilfe dieser Funktionen kann man also mit Buchstaben \"rechnen\":\n",
    "\n",
    "```python\n",
    "print(chr(ord(\"a\") + 1)) # gibt b aus\n",
    "```\n"
   ]
  },
  {
   "cell_type": "code",
   "execution_count": 40,
   "metadata": {
    "tags": []
   },
   "outputs": [
    {
     "name": "stdout",
     "output_type": "stream",
     "text": [
      "abcdefghij - abcdefghij\n",
      "abcdefghijklmnopqrstuvwxyzyx - abcdefghijklmnopqrstuvwxyda\n",
      "abcdefghijklmnopqrstuvwxyzyxwvutsrqponmlkjihgfedcbabcdefghij - abcdefghijklmnopqrstuvwxyzaabcdefghij\n"
     ]
    }
   ],
   "source": [
    "def print_alphabet_up_and_down(n):\n",
    "    for i in range(n):        \n",
    "        wiederholungen = i // 25\n",
    "        j = i - (25 * wiederholungen)\n",
    "\n",
    "        if wiederholungen % 2 == 0:\n",
    "            print(chr(ord(\"a\") + j), end=\"\")\n",
    "        else:\n",
    "            print(chr(ord(\"z\") - j), end=\"\")\n",
    "\n",
    "def alternative_print_alphabet_up_and_down(n):\n",
    "    vorwaerts = \"abcdefghijklmnopqrstuvwxy\"\n",
    "    rueckwerts = \"zyxwvutsrqponmlkjihgfedcb\"\n",
    "\n",
    "    anzahl_runden = (n // 25) + 1\n",
    "    for runde in range(anzahl_runden):\n",
    "        anzahl_buchstaben = 25 if runde != anzahl_runden - 1 else n % 25\n",
    "            \n",
    "        if runde % 2 == 0:\n",
    "            print(vorwaerts[:anzahl_buchstaben], end=\"\")\n",
    "        else:\n",
    "            print(rueckwerts[:anzahl_buchstaben], end=\"\")\n",
    "            \n",
    "\n",
    "for n in [10, 28, 60]:\n",
    "    print_alphabet_up_and_down(n)\n",
    "    print(\" - \", end=\"\")\n",
    "    alternative_print_alphabet_up_and_down(n)\n",
    "    print()"
   ]
  },
  {
   "cell_type": "code",
   "execution_count": 34,
   "metadata": {},
   "outputs": [
    {
     "data": {
      "text/plain": [
       "True"
      ]
     },
     "execution_count": 34,
     "metadata": {},
     "output_type": "execute_result"
    }
   ],
   "source": [
    "28 == len(\"abcdefghijklmnopqrstuvwxyzyx\")"
   ]
  },
  {
   "cell_type": "markdown",
   "metadata": {
    "deletable": false,
    "editable": false
   },
   "source": [
    "## Abgabe\n",
    "\n",
    "Stellen Sie sicher, dass Sie alle Zellen von oben nach unten ausgeführt haben und Ihr Notebook abgespeichert haben. Wenn Sie die folgende Zelle ausführen wird eine zip-Datei generiert. Laden Sie diese Datei in Moodle in der entsprechenden Abgabe hoch!\n"
   ]
  },
  {
   "cell_type": "code",
   "execution_count": 35,
   "metadata": {
    "deletable": false,
    "editable": false
   },
   "outputs": [
    {
     "data": {
      "application/javascript": "\n            if (typeof Jupyter !== 'undefined') {\n                Jupyter.notebook.save_checkpoint();\n            }\n        ",
      "text/plain": [
       "<IPython.core.display.Javascript object>"
      ]
     },
     "metadata": {},
     "output_type": "display_data"
    },
    {
     "data": {
      "text/html": [
       "\n",
       "                    <p>\n",
       "                        Your submission has been exported. Click\n",
       "                        <a href=\"06_abgabe1_2023_11_28T15_28_23_274429.zip\" download=\"06_abgabe1_2023_11_28T15_28_23_274429.zip\" target=\"_blank\">here</a> to download\n",
       "                        the zip file.\n",
       "                    </p>\n",
       "                "
      ],
      "text/plain": [
       "<IPython.core.display.HTML object>"
      ]
     },
     "metadata": {},
     "output_type": "display_data"
    }
   ],
   "source": [
    "grader.export(pdf=False, force_save=True)"
   ]
  },
  {
   "cell_type": "markdown",
   "metadata": {},
   "source": [
    " "
   ]
  }
 ],
 "metadata": {
  "kernelspec": {
   "display_name": "Python 3",
   "language": "python",
   "name": "python3"
  },
  "language_info": {
   "codemirror_mode": {
    "name": "ipython",
    "version": 3
   },
   "file_extension": ".py",
   "mimetype": "text/x-python",
   "name": "python",
   "nbconvert_exporter": "python",
   "pygments_lexer": "ipython3",
   "version": "3.11.6"
  },
  "otter": {
   "OK_FORMAT": false,
   "assignment_name": "06_abgabe1",
   "tests": {}
  }
 },
 "nbformat": 4,
 "nbformat_minor": 2
}
